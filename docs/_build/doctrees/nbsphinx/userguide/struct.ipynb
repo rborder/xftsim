{
 "cells": [
  {
   "cell_type": "markdown",
   "id": "a795b57d-dae0-481b-b6c7-c481d02bfe28",
   "metadata": {
    "execution": {
     "iopub.execute_input": "2023-04-07T23:28:52.438086Z",
     "iopub.status.busy": "2023-04-07T23:28:52.437271Z",
     "iopub.status.idle": "2023-04-07T23:28:52.445151Z",
     "shell.execute_reply": "2023-04-07T23:28:52.444372Z",
     "shell.execute_reply.started": "2023-04-07T23:28:52.438011Z"
    },
    "tags": []
   },
   "source": [
    "# Data structures\n"
   ]
  },
  {
   "cell_type": "code",
   "execution_count": 3,
   "id": "400e1641-7129-4c1a-88a4-3b600ce813a0",
   "metadata": {
    "execution": {
     "iopub.execute_input": "2023-04-07T23:40:06.969197Z",
     "iopub.status.busy": "2023-04-07T23:40:06.968321Z",
     "iopub.status.idle": "2023-04-07T23:40:10.363659Z",
     "shell.execute_reply": "2023-04-07T23:40:10.363096Z",
     "shell.execute_reply.started": "2023-04-07T23:40:06.969116Z"
    },
    "tags": []
   },
   "outputs": [],
   "source": [
    "from xftsim import index, struct"
   ]
  },
  {
   "cell_type": "markdown",
   "id": "dc4a4fe1-210f-4e05-9990-bc304b10e25f",
   "metadata": {},
   "source": [
    "Here we introduce `HaplotypeArray` and `PhenotypeArray` objects, the two primary data objects `xftsim` operates on. These objects are indexed as follows:\n",
    "\n",
    "| Object | Row Index | Column Index |\n",
    "| --- | --- | --- |\n",
    "|`struct.HaplotypeArray`|`index.SampleIndex`|`index.HaploidVariantIndex`|\n",
    "|`struct.PhenotypeArray`|`index.SampleIndex`|`index.ComponentIndex`|\n",
    "\n",
    "\n",
    ":::{warning}\n",
    "\n",
    "It will be challenging to to understand this information if you haven't read [the tutorial on indexing](./indexing.ipynb)!\n",
    "\n",
    ":::\n",
    "\n",
    "Counterintuively, Neither `HaplotypeArray` are `PhenotypeArray` actual classes. Rather, both construct instances of `xarray.DataArray` with an extended API available through the `xft` accessor. If you're confused, don't worry--we'll go through all of this step by step.\n",
    "\n",
    ":::{tip}\n",
    "\n",
    "The [xarray documentation](https://docs.xarray.dev/en/stable/generated/xarray.DataArray.html) can be very helpful if you haven't used `xarray` before!\n",
    "\n",
    ":::\n",
    "\n",
    "First, we'll run a small simulation so that we have some arrays to work with:\n"
   ]
  }
 ],
 "metadata": {
  "kernelspec": {
   "display_name": "Python 3 (ipykernel)",
   "language": "python",
   "name": "python3"
  },
  "language_info": {
   "codemirror_mode": {
    "name": "ipython",
    "version": 3
   },
   "file_extension": ".py",
   "mimetype": "text/x-python",
   "name": "python",
   "nbconvert_exporter": "python",
   "pygments_lexer": "ipython3",
   "version": "3.9.15"
  }
 },
 "nbformat": 4,
 "nbformat_minor": 5
}
