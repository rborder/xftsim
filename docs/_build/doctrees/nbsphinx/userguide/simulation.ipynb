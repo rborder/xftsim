{
 "cells": [
  {
   "cell_type": "markdown",
   "id": "222774f7-14af-467e-982b-5ada0df394e6",
   "metadata": {},
   "source": [
    "\n",
    "# Anatomy of a simulation\n",
    "\n",
    "\n",
    "To create an `xftsim` simulation, we need to specify six components to the `sim.Simulation()` constructor.\n",
    "\n",
    "![Anatomy of a simulation](../_static/simulation_grey.svg)\n",
    "\n",
    "\n"
   ]
  },
  {
   "cell_type": "markdown",
   "id": "a498272e-5f19-4830-97cc-c943d8c6408e",
   "metadata": {},
   "source": [
    "Briefly, these components serve the following purposes:\n",
    "\n",
    " - **Founder haplotypes** are the initial haplotypes we seed our simulation with. These can be synthetic or derived from real world data.\n",
    " - **Mating regimes** determine mate assignments and the number of offspring per mating pair\n",
    " - **Recombination maps** determine the probability of recombination events during meiosis. These can be synthetic or derived from empirical maps\n",
    " - **Phenogenetic archtectures** dictate the creation of phenotypic components. These are the most complex objects of the bunch.\n",
    " - **Statistics** include any information we'd like to record or estimate each generation of simulation. These aren't necessary but are often useful. \n",
    " - **Post-processors** specify any non-statistical procedures we'd like to perform each generation such as writing data to disk and limiting memory. Like statistics, these too are optional.\n",
    " \n",
    "We'll go through all of these in detail in the following sections."
   ]
  }
 ],
 "metadata": {
  "kernelspec": {
   "display_name": "Python 3 (ipykernel)",
   "language": "python",
   "name": "python3"
  },
  "language_info": {
   "codemirror_mode": {
    "name": "ipython",
    "version": 3
   },
   "file_extension": ".py",
   "mimetype": "text/x-python",
   "name": "python",
   "nbconvert_exporter": "python",
   "pygments_lexer": "ipython3",
   "version": "3.10.6"
  }
 },
 "nbformat": 4,
 "nbformat_minor": 5
}
