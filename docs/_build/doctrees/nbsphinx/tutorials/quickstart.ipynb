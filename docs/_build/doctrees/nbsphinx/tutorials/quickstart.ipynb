{
 "cells": [
  {
   "cell_type": "markdown",
   "id": "ccdc55f6-4ac0-4776-b465-9421df715596",
   "metadata": {},
   "source": [
    "## Quickstart\n",
    "\n",
    "In this brief tutorial, we'll run a quick simulation that illustrates the impact of cross-trait assortative mating on the the Haseman-Elston regression genetic correlation estimator. In the process, we'll learning about the essential components of an `xftsim` simulation.\n",
    "\n",
    "### Setting up a simulation"
   ]
  },
  {
   "cell_type": "code",
   "execution_count": 2,
   "id": "6e512da0-3a80-4903-8384-e57f0eb24b5c",
   "metadata": {
    "execution": {
     "iopub.execute_input": "2023-04-04T22:28:31.444417Z",
     "iopub.status.busy": "2023-04-04T22:28:31.444182Z",
     "iopub.status.idle": "2023-04-04T22:28:31.784112Z",
     "shell.execute_reply": "2023-04-04T22:28:31.783418Z",
     "shell.execute_reply.started": "2023-04-04T22:28:31.444400Z"
    },
    "tags": []
   },
   "outputs": [],
   "source": [
    "import xftsim as xft\n",
    "from xftsim.sim import Simulation\n",
    "import numpy as np\n",
    "import pandas as pd\n",
    "import seaborn as sns\n",
    "\n",
    "xft.config.print_durations_threshold=10. ## reduce verbosity\n",
    "np.random.seed(123) ## set random seed for reproducibility"
   ]
  },
  {
   "cell_type": "markdown",
   "id": "6ed8f17a-c802-4a6b-b4f0-04874f4da71e",
   "metadata": {},
   "source": [
    "`Simulation` objects require the following arguments:\n",
    "\n",
    "  - `founder_haplotypes: xarray.core.dataarray.DataArray,`\n",
    "  - `architecture: xftsim.arch.Architecture,`\n",
    "  - `recombination_map: xftsim.reproduce.RecombinationMap,`\n",
    "  - `mating_regime: xftsim.mate.MatingRegime,`\n",
    " \n",
    " Together, these comprise our initial generation's haplotypes (`founder_haplotypes`), a phenogenetic architecture mapping genotypes to phenotypes (`architecture`), a method for assigning mates (`mating_regime`), and a recombination map for meiosis (`recombination_map`).\n",
    " \n",
    " We can also supply the following iterables:\n",
    " \n",
    "  - `statistics: Iterable = [],`\n",
    "  - `post_processors: Iterable = [],`\n",
    " \n",
    "which correspond to any estimators (`statistics`) or other procedures (`post_processors`) we'd like to run every generation. \n",
    "\n",
    "For our **founder haplotypes**, we'll simply generate independent binomial random variants for `n=8000` individuals at `m=1000` diploid sites: "
   ]
  },
  {
   "cell_type": "code",
   "execution_count": 3,
   "id": "e12c59b2-8555-4c61-9d77-7261873ee180",
   "metadata": {
    "execution": {
     "iopub.execute_input": "2023-04-04T22:28:32.594789Z",
     "iopub.status.busy": "2023-04-04T22:28:32.593888Z",
     "iopub.status.idle": "2023-04-04T22:28:33.048084Z",
     "shell.execute_reply": "2023-04-04T22:28:33.047586Z",
     "shell.execute_reply.started": "2023-04-04T22:28:32.594724Z"
    },
    "tags": []
   },
   "outputs": [
    {
     "data": {
      "text/html": [
       "<div><svg style=\"position: absolute; width: 0; height: 0; overflow: hidden\">\n",
       "<defs>\n",
       "<symbol id=\"icon-database\" viewBox=\"0 0 32 32\">\n",
       "<path d=\"M16 0c-8.837 0-16 2.239-16 5v4c0 2.761 7.163 5 16 5s16-2.239 16-5v-4c0-2.761-7.163-5-16-5z\"></path>\n",
       "<path d=\"M16 17c-8.837 0-16-2.239-16-5v6c0 2.761 7.163 5 16 5s16-2.239 16-5v-6c0 2.761-7.163 5-16 5z\"></path>\n",
       "<path d=\"M16 26c-8.837 0-16-2.239-16-5v6c0 2.761 7.163 5 16 5s16-2.239 16-5v-6c0 2.761-7.163 5-16 5z\"></path>\n",
       "</symbol>\n",
       "<symbol id=\"icon-file-text2\" viewBox=\"0 0 32 32\">\n",
       "<path d=\"M28.681 7.159c-0.694-0.947-1.662-2.053-2.724-3.116s-2.169-2.030-3.116-2.724c-1.612-1.182-2.393-1.319-2.841-1.319h-15.5c-1.378 0-2.5 1.121-2.5 2.5v27c0 1.378 1.122 2.5 2.5 2.5h23c1.378 0 2.5-1.122 2.5-2.5v-19.5c0-0.448-0.137-1.23-1.319-2.841zM24.543 5.457c0.959 0.959 1.712 1.825 2.268 2.543h-4.811v-4.811c0.718 0.556 1.584 1.309 2.543 2.268zM28 29.5c0 0.271-0.229 0.5-0.5 0.5h-23c-0.271 0-0.5-0.229-0.5-0.5v-27c0-0.271 0.229-0.5 0.5-0.5 0 0 15.499-0 15.5 0v7c0 0.552 0.448 1 1 1h7v19.5z\"></path>\n",
       "<path d=\"M23 26h-14c-0.552 0-1-0.448-1-1s0.448-1 1-1h14c0.552 0 1 0.448 1 1s-0.448 1-1 1z\"></path>\n",
       "<path d=\"M23 22h-14c-0.552 0-1-0.448-1-1s0.448-1 1-1h14c0.552 0 1 0.448 1 1s-0.448 1-1 1z\"></path>\n",
       "<path d=\"M23 18h-14c-0.552 0-1-0.448-1-1s0.448-1 1-1h14c0.552 0 1 0.448 1 1s-0.448 1-1 1z\"></path>\n",
       "</symbol>\n",
       "</defs>\n",
       "</svg>\n",
       "<style>/* CSS stylesheet for displaying xarray objects in jupyterlab.\n",
       " *\n",
       " */\n",
       "\n",
       ":root {\n",
       "  --xr-font-color0: var(--jp-content-font-color0, rgba(0, 0, 0, 1));\n",
       "  --xr-font-color2: var(--jp-content-font-color2, rgba(0, 0, 0, 0.54));\n",
       "  --xr-font-color3: var(--jp-content-font-color3, rgba(0, 0, 0, 0.38));\n",
       "  --xr-border-color: var(--jp-border-color2, #e0e0e0);\n",
       "  --xr-disabled-color: var(--jp-layout-color3, #bdbdbd);\n",
       "  --xr-background-color: var(--jp-layout-color0, white);\n",
       "  --xr-background-color-row-even: var(--jp-layout-color1, white);\n",
       "  --xr-background-color-row-odd: var(--jp-layout-color2, #eeeeee);\n",
       "}\n",
       "\n",
       "html[theme=dark],\n",
       "body[data-theme=dark],\n",
       "body.vscode-dark {\n",
       "  --xr-font-color0: rgba(255, 255, 255, 1);\n",
       "  --xr-font-color2: rgba(255, 255, 255, 0.54);\n",
       "  --xr-font-color3: rgba(255, 255, 255, 0.38);\n",
       "  --xr-border-color: #1F1F1F;\n",
       "  --xr-disabled-color: #515151;\n",
       "  --xr-background-color: #111111;\n",
       "  --xr-background-color-row-even: #111111;\n",
       "  --xr-background-color-row-odd: #313131;\n",
       "}\n",
       "\n",
       ".xr-wrap {\n",
       "  display: block !important;\n",
       "  min-width: 300px;\n",
       "  max-width: 700px;\n",
       "}\n",
       "\n",
       ".xr-text-repr-fallback {\n",
       "  /* fallback to plain text repr when CSS is not injected (untrusted notebook) */\n",
       "  display: none;\n",
       "}\n",
       "\n",
       ".xr-header {\n",
       "  padding-top: 6px;\n",
       "  padding-bottom: 6px;\n",
       "  margin-bottom: 4px;\n",
       "  border-bottom: solid 1px var(--xr-border-color);\n",
       "}\n",
       "\n",
       ".xr-header > div,\n",
       ".xr-header > ul {\n",
       "  display: inline;\n",
       "  margin-top: 0;\n",
       "  margin-bottom: 0;\n",
       "}\n",
       "\n",
       ".xr-obj-type,\n",
       ".xr-array-name {\n",
       "  margin-left: 2px;\n",
       "  margin-right: 10px;\n",
       "}\n",
       "\n",
       ".xr-obj-type {\n",
       "  color: var(--xr-font-color2);\n",
       "}\n",
       "\n",
       ".xr-sections {\n",
       "  padding-left: 0 !important;\n",
       "  display: grid;\n",
       "  grid-template-columns: 150px auto auto 1fr 20px 20px;\n",
       "}\n",
       "\n",
       ".xr-section-item {\n",
       "  display: contents;\n",
       "}\n",
       "\n",
       ".xr-section-item input {\n",
       "  display: none;\n",
       "}\n",
       "\n",
       ".xr-section-item input + label {\n",
       "  color: var(--xr-disabled-color);\n",
       "}\n",
       "\n",
       ".xr-section-item input:enabled + label {\n",
       "  cursor: pointer;\n",
       "  color: var(--xr-font-color2);\n",
       "}\n",
       "\n",
       ".xr-section-item input:enabled + label:hover {\n",
       "  color: var(--xr-font-color0);\n",
       "}\n",
       "\n",
       ".xr-section-summary {\n",
       "  grid-column: 1;\n",
       "  color: var(--xr-font-color2);\n",
       "  font-weight: 500;\n",
       "}\n",
       "\n",
       ".xr-section-summary > span {\n",
       "  display: inline-block;\n",
       "  padding-left: 0.5em;\n",
       "}\n",
       "\n",
       ".xr-section-summary-in:disabled + label {\n",
       "  color: var(--xr-font-color2);\n",
       "}\n",
       "\n",
       ".xr-section-summary-in + label:before {\n",
       "  display: inline-block;\n",
       "  content: '►';\n",
       "  font-size: 11px;\n",
       "  width: 15px;\n",
       "  text-align: center;\n",
       "}\n",
       "\n",
       ".xr-section-summary-in:disabled + label:before {\n",
       "  color: var(--xr-disabled-color);\n",
       "}\n",
       "\n",
       ".xr-section-summary-in:checked + label:before {\n",
       "  content: '▼';\n",
       "}\n",
       "\n",
       ".xr-section-summary-in:checked + label > span {\n",
       "  display: none;\n",
       "}\n",
       "\n",
       ".xr-section-summary,\n",
       ".xr-section-inline-details {\n",
       "  padding-top: 4px;\n",
       "  padding-bottom: 4px;\n",
       "}\n",
       "\n",
       ".xr-section-inline-details {\n",
       "  grid-column: 2 / -1;\n",
       "}\n",
       "\n",
       ".xr-section-details {\n",
       "  display: none;\n",
       "  grid-column: 1 / -1;\n",
       "  margin-bottom: 5px;\n",
       "}\n",
       "\n",
       ".xr-section-summary-in:checked ~ .xr-section-details {\n",
       "  display: contents;\n",
       "}\n",
       "\n",
       ".xr-array-wrap {\n",
       "  grid-column: 1 / -1;\n",
       "  display: grid;\n",
       "  grid-template-columns: 20px auto;\n",
       "}\n",
       "\n",
       ".xr-array-wrap > label {\n",
       "  grid-column: 1;\n",
       "  vertical-align: top;\n",
       "}\n",
       "\n",
       ".xr-preview {\n",
       "  color: var(--xr-font-color3);\n",
       "}\n",
       "\n",
       ".xr-array-preview,\n",
       ".xr-array-data {\n",
       "  padding: 0 5px !important;\n",
       "  grid-column: 2;\n",
       "}\n",
       "\n",
       ".xr-array-data,\n",
       ".xr-array-in:checked ~ .xr-array-preview {\n",
       "  display: none;\n",
       "}\n",
       "\n",
       ".xr-array-in:checked ~ .xr-array-data,\n",
       ".xr-array-preview {\n",
       "  display: inline-block;\n",
       "}\n",
       "\n",
       ".xr-dim-list {\n",
       "  display: inline-block !important;\n",
       "  list-style: none;\n",
       "  padding: 0 !important;\n",
       "  margin: 0;\n",
       "}\n",
       "\n",
       ".xr-dim-list li {\n",
       "  display: inline-block;\n",
       "  padding: 0;\n",
       "  margin: 0;\n",
       "}\n",
       "\n",
       ".xr-dim-list:before {\n",
       "  content: '(';\n",
       "}\n",
       "\n",
       ".xr-dim-list:after {\n",
       "  content: ')';\n",
       "}\n",
       "\n",
       ".xr-dim-list li:not(:last-child):after {\n",
       "  content: ',';\n",
       "  padding-right: 5px;\n",
       "}\n",
       "\n",
       ".xr-has-index {\n",
       "  font-weight: bold;\n",
       "}\n",
       "\n",
       ".xr-var-list,\n",
       ".xr-var-item {\n",
       "  display: contents;\n",
       "}\n",
       "\n",
       ".xr-var-item > div,\n",
       ".xr-var-item label,\n",
       ".xr-var-item > .xr-var-name span {\n",
       "  background-color: var(--xr-background-color-row-even);\n",
       "  margin-bottom: 0;\n",
       "}\n",
       "\n",
       ".xr-var-item > .xr-var-name:hover span {\n",
       "  padding-right: 5px;\n",
       "}\n",
       "\n",
       ".xr-var-list > li:nth-child(odd) > div,\n",
       ".xr-var-list > li:nth-child(odd) > label,\n",
       ".xr-var-list > li:nth-child(odd) > .xr-var-name span {\n",
       "  background-color: var(--xr-background-color-row-odd);\n",
       "}\n",
       "\n",
       ".xr-var-name {\n",
       "  grid-column: 1;\n",
       "}\n",
       "\n",
       ".xr-var-dims {\n",
       "  grid-column: 2;\n",
       "}\n",
       "\n",
       ".xr-var-dtype {\n",
       "  grid-column: 3;\n",
       "  text-align: right;\n",
       "  color: var(--xr-font-color2);\n",
       "}\n",
       "\n",
       ".xr-var-preview {\n",
       "  grid-column: 4;\n",
       "}\n",
       "\n",
       ".xr-index-preview {\n",
       "  grid-column: 2 / 5;\n",
       "  color: var(--xr-font-color2);\n",
       "}\n",
       "\n",
       ".xr-var-name,\n",
       ".xr-var-dims,\n",
       ".xr-var-dtype,\n",
       ".xr-preview,\n",
       ".xr-attrs dt {\n",
       "  white-space: nowrap;\n",
       "  overflow: hidden;\n",
       "  text-overflow: ellipsis;\n",
       "  padding-right: 10px;\n",
       "}\n",
       "\n",
       ".xr-var-name:hover,\n",
       ".xr-var-dims:hover,\n",
       ".xr-var-dtype:hover,\n",
       ".xr-attrs dt:hover {\n",
       "  overflow: visible;\n",
       "  width: auto;\n",
       "  z-index: 1;\n",
       "}\n",
       "\n",
       ".xr-var-attrs,\n",
       ".xr-var-data,\n",
       ".xr-index-data {\n",
       "  display: none;\n",
       "  background-color: var(--xr-background-color) !important;\n",
       "  padding-bottom: 5px !important;\n",
       "}\n",
       "\n",
       ".xr-var-attrs-in:checked ~ .xr-var-attrs,\n",
       ".xr-var-data-in:checked ~ .xr-var-data,\n",
       ".xr-index-data-in:checked ~ .xr-index-data {\n",
       "  display: block;\n",
       "}\n",
       "\n",
       ".xr-var-data > table {\n",
       "  float: right;\n",
       "}\n",
       "\n",
       ".xr-var-name span,\n",
       ".xr-var-data,\n",
       ".xr-index-name div,\n",
       ".xr-index-data,\n",
       ".xr-attrs {\n",
       "  padding-left: 25px !important;\n",
       "}\n",
       "\n",
       ".xr-attrs,\n",
       ".xr-var-attrs,\n",
       ".xr-var-data,\n",
       ".xr-index-data {\n",
       "  grid-column: 1 / -1;\n",
       "}\n",
       "\n",
       "dl.xr-attrs {\n",
       "  padding: 0;\n",
       "  margin: 0;\n",
       "  display: grid;\n",
       "  grid-template-columns: 125px auto;\n",
       "}\n",
       "\n",
       ".xr-attrs dt,\n",
       ".xr-attrs dd {\n",
       "  padding: 0;\n",
       "  margin: 0;\n",
       "  float: left;\n",
       "  padding-right: 10px;\n",
       "  width: auto;\n",
       "}\n",
       "\n",
       ".xr-attrs dt {\n",
       "  font-weight: normal;\n",
       "  grid-column: 1;\n",
       "}\n",
       "\n",
       ".xr-attrs dt:hover span {\n",
       "  display: inline-block;\n",
       "  background: var(--xr-background-color);\n",
       "  padding-right: 10px;\n",
       "}\n",
       "\n",
       ".xr-attrs dd {\n",
       "  grid-column: 2;\n",
       "  white-space: pre-wrap;\n",
       "  word-break: break-all;\n",
       "}\n",
       "\n",
       ".xr-icon-database,\n",
       ".xr-icon-file-text2,\n",
       ".xr-no-icon {\n",
       "  display: inline-block;\n",
       "  vertical-align: middle;\n",
       "  width: 1em;\n",
       "  height: 1.5em !important;\n",
       "  stroke-width: 0;\n",
       "  stroke: currentColor;\n",
       "  fill: currentColor;\n",
       "}\n",
       "</style><pre class='xr-text-repr-fallback'>&lt;xarray.DataArray &#x27;HaplotypeArray&#x27; (sample: 8000, variant: 2000)&gt;\n",
       "array([[1, 0, 0, ..., 0, 1, 1],\n",
       "       [1, 1, 0, ..., 1, 0, 0],\n",
       "       [1, 1, 0, ..., 1, 0, 1],\n",
       "       ...,\n",
       "       [1, 1, 0, ..., 0, 0, 0],\n",
       "       [1, 0, 0, ..., 0, 0, 0],\n",
       "       [1, 0, 0, ..., 0, 1, 0]], dtype=int8)\n",
       "Coordinates: (12/13)\n",
       "  * sample       (sample) &lt;U13 &#x27;0_0.0_0&#x27; &#x27;0_1.0_1&#x27; ... &#x27;0_7999.0_7999&#x27;\n",
       "    iid          (sample) object &#x27;0_0&#x27; &#x27;0_1&#x27; &#x27;0_2&#x27; ... &#x27;0_7998&#x27; &#x27;0_7999&#x27;\n",
       "    fid          (sample) object &#x27;0_0&#x27; &#x27;0_1&#x27; &#x27;0_2&#x27; ... &#x27;0_7998&#x27; &#x27;0_7999&#x27;\n",
       "    sex          (sample) int64 0 1 0 1 0 1 0 1 0 1 0 ... 1 0 1 0 1 0 1 0 1 0 1\n",
       "  * variant      (variant) &lt;U5 &#x27;0.0&#x27; &#x27;0.1&#x27; &#x27;1.0&#x27; ... &#x27;998.1&#x27; &#x27;999.0&#x27; &#x27;999.1&#x27;\n",
       "    vid          (variant) object &#x27;0&#x27; &#x27;0&#x27; &#x27;1&#x27; &#x27;1&#x27; ... &#x27;998&#x27; &#x27;998&#x27; &#x27;999&#x27; &#x27;999&#x27;\n",
       "    ...           ...\n",
       "    hcopy        (variant) object &#x27;0&#x27; &#x27;1&#x27; &#x27;0&#x27; &#x27;1&#x27; &#x27;0&#x27; ... &#x27;1&#x27; &#x27;0&#x27; &#x27;1&#x27; &#x27;0&#x27; &#x27;1&#x27;\n",
       "    zero_allele  (variant) object &#x27;A&#x27; &#x27;A&#x27; &#x27;A&#x27; &#x27;A&#x27; &#x27;A&#x27; ... &#x27;A&#x27; &#x27;A&#x27; &#x27;A&#x27; &#x27;A&#x27; &#x27;A&#x27;\n",
       "    one_allele   (variant) object &#x27;G&#x27; &#x27;G&#x27; &#x27;G&#x27; &#x27;G&#x27; &#x27;G&#x27; ... &#x27;G&#x27; &#x27;G&#x27; &#x27;G&#x27; &#x27;G&#x27; &#x27;G&#x27;\n",
       "    af           (variant) float64 0.6572 0.6572 0.3289 ... 0.1033 0.3359 0.3359\n",
       "    pos_bp       (variant) float64 nan nan nan nan nan ... nan nan nan nan nan\n",
       "    pos_cM       (variant) float64 nan nan nan nan nan ... nan nan nan nan nan\n",
       "Attributes:\n",
       "    generation:  0</pre><div class='xr-wrap' style='display:none'><div class='xr-header'><div class='xr-obj-type'>xarray.DataArray</div><div class='xr-array-name'>'HaplotypeArray'</div><ul class='xr-dim-list'><li><span class='xr-has-index'>sample</span>: 8000</li><li><span class='xr-has-index'>variant</span>: 2000</li></ul></div><ul class='xr-sections'><li class='xr-section-item'><div class='xr-array-wrap'><input id='section-15f04996-7d91-4f6c-ae15-b0002b578c5e' class='xr-array-in' type='checkbox' checked><label for='section-15f04996-7d91-4f6c-ae15-b0002b578c5e' title='Show/hide data repr'><svg class='icon xr-icon-database'><use xlink:href='#icon-database'></use></svg></label><div class='xr-array-preview xr-preview'><span>1 0 0 0 0 0 0 1 1 1 1 0 1 1 0 0 0 ... 0 0 0 1 1 1 0 0 1 1 0 1 0 0 1 0</span></div><div class='xr-array-data'><pre>array([[1, 0, 0, ..., 0, 1, 1],\n",
       "       [1, 1, 0, ..., 1, 0, 0],\n",
       "       [1, 1, 0, ..., 1, 0, 1],\n",
       "       ...,\n",
       "       [1, 1, 0, ..., 0, 0, 0],\n",
       "       [1, 0, 0, ..., 0, 0, 0],\n",
       "       [1, 0, 0, ..., 0, 1, 0]], dtype=int8)</pre></div></div></li><li class='xr-section-item'><input id='section-1373a74c-0789-4829-8793-bd100c15de14' class='xr-section-summary-in' type='checkbox'  checked><label for='section-1373a74c-0789-4829-8793-bd100c15de14' class='xr-section-summary' >Coordinates: <span>(13)</span></label><div class='xr-section-inline-details'></div><div class='xr-section-details'><ul class='xr-var-list'><li class='xr-var-item'><div class='xr-var-name'><span class='xr-has-index'>sample</span></div><div class='xr-var-dims'>(sample)</div><div class='xr-var-dtype'>&lt;U13</div><div class='xr-var-preview xr-preview'>&#x27;0_0.0_0&#x27; ... &#x27;0_7999.0_7999&#x27;</div><input id='attrs-a6bc8122-7703-4fae-9f43-d86badc3c49a' class='xr-var-attrs-in' type='checkbox' disabled><label for='attrs-a6bc8122-7703-4fae-9f43-d86badc3c49a' title='Show/Hide attributes'><svg class='icon xr-icon-file-text2'><use xlink:href='#icon-file-text2'></use></svg></label><input id='data-834ecaca-f829-44b4-a293-db4f9b4f8fef' class='xr-var-data-in' type='checkbox'><label for='data-834ecaca-f829-44b4-a293-db4f9b4f8fef' title='Show/Hide data repr'><svg class='icon xr-icon-database'><use xlink:href='#icon-database'></use></svg></label><div class='xr-var-attrs'><dl class='xr-attrs'></dl></div><div class='xr-var-data'><pre>array([&#x27;0_0.0_0&#x27;, &#x27;0_1.0_1&#x27;, &#x27;0_2.0_2&#x27;, ..., &#x27;0_7997.0_7997&#x27;, &#x27;0_7998.0_7998&#x27;,\n",
       "       &#x27;0_7999.0_7999&#x27;], dtype=&#x27;&lt;U13&#x27;)</pre></div></li><li class='xr-var-item'><div class='xr-var-name'><span>iid</span></div><div class='xr-var-dims'>(sample)</div><div class='xr-var-dtype'>object</div><div class='xr-var-preview xr-preview'>&#x27;0_0&#x27; &#x27;0_1&#x27; ... &#x27;0_7998&#x27; &#x27;0_7999&#x27;</div><input id='attrs-9328311b-ddd5-422a-9def-5d6ce6380944' class='xr-var-attrs-in' type='checkbox' disabled><label for='attrs-9328311b-ddd5-422a-9def-5d6ce6380944' title='Show/Hide attributes'><svg class='icon xr-icon-file-text2'><use xlink:href='#icon-file-text2'></use></svg></label><input id='data-ea42db27-bc81-4742-b8c3-5318c7c658e7' class='xr-var-data-in' type='checkbox'><label for='data-ea42db27-bc81-4742-b8c3-5318c7c658e7' title='Show/Hide data repr'><svg class='icon xr-icon-database'><use xlink:href='#icon-database'></use></svg></label><div class='xr-var-attrs'><dl class='xr-attrs'></dl></div><div class='xr-var-data'><pre>array([&#x27;0_0&#x27;, &#x27;0_1&#x27;, &#x27;0_2&#x27;, ..., &#x27;0_7997&#x27;, &#x27;0_7998&#x27;, &#x27;0_7999&#x27;],\n",
       "      dtype=object)</pre></div></li><li class='xr-var-item'><div class='xr-var-name'><span>fid</span></div><div class='xr-var-dims'>(sample)</div><div class='xr-var-dtype'>object</div><div class='xr-var-preview xr-preview'>&#x27;0_0&#x27; &#x27;0_1&#x27; ... &#x27;0_7998&#x27; &#x27;0_7999&#x27;</div><input id='attrs-18d556e2-a5fb-4bf5-b87f-4a07e7c5f43d' class='xr-var-attrs-in' type='checkbox' disabled><label for='attrs-18d556e2-a5fb-4bf5-b87f-4a07e7c5f43d' title='Show/Hide attributes'><svg class='icon xr-icon-file-text2'><use xlink:href='#icon-file-text2'></use></svg></label><input id='data-88ab3349-0070-4823-9134-ce65f1eb18a3' class='xr-var-data-in' type='checkbox'><label for='data-88ab3349-0070-4823-9134-ce65f1eb18a3' title='Show/Hide data repr'><svg class='icon xr-icon-database'><use xlink:href='#icon-database'></use></svg></label><div class='xr-var-attrs'><dl class='xr-attrs'></dl></div><div class='xr-var-data'><pre>array([&#x27;0_0&#x27;, &#x27;0_1&#x27;, &#x27;0_2&#x27;, ..., &#x27;0_7997&#x27;, &#x27;0_7998&#x27;, &#x27;0_7999&#x27;],\n",
       "      dtype=object)</pre></div></li><li class='xr-var-item'><div class='xr-var-name'><span>sex</span></div><div class='xr-var-dims'>(sample)</div><div class='xr-var-dtype'>int64</div><div class='xr-var-preview xr-preview'>0 1 0 1 0 1 0 1 ... 0 1 0 1 0 1 0 1</div><input id='attrs-db11a82b-7975-43bf-8a60-a88d06d7f763' class='xr-var-attrs-in' type='checkbox' disabled><label for='attrs-db11a82b-7975-43bf-8a60-a88d06d7f763' title='Show/Hide attributes'><svg class='icon xr-icon-file-text2'><use xlink:href='#icon-file-text2'></use></svg></label><input id='data-34f55ecb-7479-4cd6-b61e-9894007afbf2' class='xr-var-data-in' type='checkbox'><label for='data-34f55ecb-7479-4cd6-b61e-9894007afbf2' title='Show/Hide data repr'><svg class='icon xr-icon-database'><use xlink:href='#icon-database'></use></svg></label><div class='xr-var-attrs'><dl class='xr-attrs'></dl></div><div class='xr-var-data'><pre>array([0, 1, 0, ..., 1, 0, 1])</pre></div></li><li class='xr-var-item'><div class='xr-var-name'><span class='xr-has-index'>variant</span></div><div class='xr-var-dims'>(variant)</div><div class='xr-var-dtype'>&lt;U5</div><div class='xr-var-preview xr-preview'>&#x27;0.0&#x27; &#x27;0.1&#x27; ... &#x27;999.0&#x27; &#x27;999.1&#x27;</div><input id='attrs-c9646c36-8d5c-4a90-ad3e-ec17d1fb72ad' class='xr-var-attrs-in' type='checkbox' disabled><label for='attrs-c9646c36-8d5c-4a90-ad3e-ec17d1fb72ad' title='Show/Hide attributes'><svg class='icon xr-icon-file-text2'><use xlink:href='#icon-file-text2'></use></svg></label><input id='data-5fe348cc-3f9b-4be6-8059-e5a92418cced' class='xr-var-data-in' type='checkbox'><label for='data-5fe348cc-3f9b-4be6-8059-e5a92418cced' title='Show/Hide data repr'><svg class='icon xr-icon-database'><use xlink:href='#icon-database'></use></svg></label><div class='xr-var-attrs'><dl class='xr-attrs'></dl></div><div class='xr-var-data'><pre>array([&#x27;0.0&#x27;, &#x27;0.1&#x27;, &#x27;1.0&#x27;, ..., &#x27;998.1&#x27;, &#x27;999.0&#x27;, &#x27;999.1&#x27;], dtype=&#x27;&lt;U5&#x27;)</pre></div></li><li class='xr-var-item'><div class='xr-var-name'><span>vid</span></div><div class='xr-var-dims'>(variant)</div><div class='xr-var-dtype'>object</div><div class='xr-var-preview xr-preview'>&#x27;0&#x27; &#x27;0&#x27; &#x27;1&#x27; ... &#x27;998&#x27; &#x27;999&#x27; &#x27;999&#x27;</div><input id='attrs-8c62320d-aa4e-4f75-a0bd-b2411f36307d' class='xr-var-attrs-in' type='checkbox' disabled><label for='attrs-8c62320d-aa4e-4f75-a0bd-b2411f36307d' title='Show/Hide attributes'><svg class='icon xr-icon-file-text2'><use xlink:href='#icon-file-text2'></use></svg></label><input id='data-677bf4fa-3cee-40d2-a58f-f36a2f3540ca' class='xr-var-data-in' type='checkbox'><label for='data-677bf4fa-3cee-40d2-a58f-f36a2f3540ca' title='Show/Hide data repr'><svg class='icon xr-icon-database'><use xlink:href='#icon-database'></use></svg></label><div class='xr-var-attrs'><dl class='xr-attrs'></dl></div><div class='xr-var-data'><pre>array([&#x27;0&#x27;, &#x27;0&#x27;, &#x27;1&#x27;, ..., &#x27;998&#x27;, &#x27;999&#x27;, &#x27;999&#x27;], dtype=object)</pre></div></li><li class='xr-var-item'><div class='xr-var-name'><span>chrom</span></div><div class='xr-var-dims'>(variant)</div><div class='xr-var-dtype'>int64</div><div class='xr-var-preview xr-preview'>0 0 0 0 0 0 0 ... 21 21 21 21 21 21</div><input id='attrs-5bc44bae-e95e-4073-b6b3-c9e9785d7ef9' class='xr-var-attrs-in' type='checkbox' disabled><label for='attrs-5bc44bae-e95e-4073-b6b3-c9e9785d7ef9' title='Show/Hide attributes'><svg class='icon xr-icon-file-text2'><use xlink:href='#icon-file-text2'></use></svg></label><input id='data-3271e2de-2054-49e7-8882-247a1e419403' class='xr-var-data-in' type='checkbox'><label for='data-3271e2de-2054-49e7-8882-247a1e419403' title='Show/Hide data repr'><svg class='icon xr-icon-database'><use xlink:href='#icon-database'></use></svg></label><div class='xr-var-attrs'><dl class='xr-attrs'></dl></div><div class='xr-var-data'><pre>array([ 0,  0,  0, ..., 21, 21, 21])</pre></div></li><li class='xr-var-item'><div class='xr-var-name'><span>hcopy</span></div><div class='xr-var-dims'>(variant)</div><div class='xr-var-dtype'>object</div><div class='xr-var-preview xr-preview'>&#x27;0&#x27; &#x27;1&#x27; &#x27;0&#x27; &#x27;1&#x27; ... &#x27;0&#x27; &#x27;1&#x27; &#x27;0&#x27; &#x27;1&#x27;</div><input id='attrs-34aac33a-31da-4cd1-8afd-1793f60ec08a' class='xr-var-attrs-in' type='checkbox' disabled><label for='attrs-34aac33a-31da-4cd1-8afd-1793f60ec08a' title='Show/Hide attributes'><svg class='icon xr-icon-file-text2'><use xlink:href='#icon-file-text2'></use></svg></label><input id='data-765e1638-b083-4d74-8f9d-17d209933cd8' class='xr-var-data-in' type='checkbox'><label for='data-765e1638-b083-4d74-8f9d-17d209933cd8' title='Show/Hide data repr'><svg class='icon xr-icon-database'><use xlink:href='#icon-database'></use></svg></label><div class='xr-var-attrs'><dl class='xr-attrs'></dl></div><div class='xr-var-data'><pre>array([&#x27;0&#x27;, &#x27;1&#x27;, &#x27;0&#x27;, ..., &#x27;1&#x27;, &#x27;0&#x27;, &#x27;1&#x27;], dtype=object)</pre></div></li><li class='xr-var-item'><div class='xr-var-name'><span>zero_allele</span></div><div class='xr-var-dims'>(variant)</div><div class='xr-var-dtype'>object</div><div class='xr-var-preview xr-preview'>&#x27;A&#x27; &#x27;A&#x27; &#x27;A&#x27; &#x27;A&#x27; ... &#x27;A&#x27; &#x27;A&#x27; &#x27;A&#x27; &#x27;A&#x27;</div><input id='attrs-004a150c-77a9-4d16-8a9a-f68b88cd2afd' class='xr-var-attrs-in' type='checkbox' disabled><label for='attrs-004a150c-77a9-4d16-8a9a-f68b88cd2afd' title='Show/Hide attributes'><svg class='icon xr-icon-file-text2'><use xlink:href='#icon-file-text2'></use></svg></label><input id='data-c3a8723f-0497-4437-93ba-b0f0599caaea' class='xr-var-data-in' type='checkbox'><label for='data-c3a8723f-0497-4437-93ba-b0f0599caaea' title='Show/Hide data repr'><svg class='icon xr-icon-database'><use xlink:href='#icon-database'></use></svg></label><div class='xr-var-attrs'><dl class='xr-attrs'></dl></div><div class='xr-var-data'><pre>array([&#x27;A&#x27;, &#x27;A&#x27;, &#x27;A&#x27;, ..., &#x27;A&#x27;, &#x27;A&#x27;, &#x27;A&#x27;], dtype=object)</pre></div></li><li class='xr-var-item'><div class='xr-var-name'><span>one_allele</span></div><div class='xr-var-dims'>(variant)</div><div class='xr-var-dtype'>object</div><div class='xr-var-preview xr-preview'>&#x27;G&#x27; &#x27;G&#x27; &#x27;G&#x27; &#x27;G&#x27; ... &#x27;G&#x27; &#x27;G&#x27; &#x27;G&#x27; &#x27;G&#x27;</div><input id='attrs-0a8110c6-5a5e-4361-af32-b547f9f644f5' class='xr-var-attrs-in' type='checkbox' disabled><label for='attrs-0a8110c6-5a5e-4361-af32-b547f9f644f5' title='Show/Hide attributes'><svg class='icon xr-icon-file-text2'><use xlink:href='#icon-file-text2'></use></svg></label><input id='data-14a505b5-d9ca-4802-bc35-47511aa2e416' class='xr-var-data-in' type='checkbox'><label for='data-14a505b5-d9ca-4802-bc35-47511aa2e416' title='Show/Hide data repr'><svg class='icon xr-icon-database'><use xlink:href='#icon-database'></use></svg></label><div class='xr-var-attrs'><dl class='xr-attrs'></dl></div><div class='xr-var-data'><pre>array([&#x27;G&#x27;, &#x27;G&#x27;, &#x27;G&#x27;, ..., &#x27;G&#x27;, &#x27;G&#x27;, &#x27;G&#x27;], dtype=object)</pre></div></li><li class='xr-var-item'><div class='xr-var-name'><span>af</span></div><div class='xr-var-dims'>(variant)</div><div class='xr-var-dtype'>float64</div><div class='xr-var-preview xr-preview'>0.6572 0.6572 ... 0.3359 0.3359</div><input id='attrs-ddef25b7-0967-45dc-bdd0-9949cfa9d067' class='xr-var-attrs-in' type='checkbox' disabled><label for='attrs-ddef25b7-0967-45dc-bdd0-9949cfa9d067' title='Show/Hide attributes'><svg class='icon xr-icon-file-text2'><use xlink:href='#icon-file-text2'></use></svg></label><input id='data-1118803c-e364-4b35-8e5a-73be7c8bfcbc' class='xr-var-data-in' type='checkbox'><label for='data-1118803c-e364-4b35-8e5a-73be7c8bfcbc' title='Show/Hide data repr'><svg class='icon xr-icon-database'><use xlink:href='#icon-database'></use></svg></label><div class='xr-var-attrs'><dl class='xr-attrs'></dl></div><div class='xr-var-data'><pre>array([0.65717535, 0.65717535, 0.32891147, ..., 0.10333479, 0.33591577,\n",
       "       0.33591577])</pre></div></li><li class='xr-var-item'><div class='xr-var-name'><span>pos_bp</span></div><div class='xr-var-dims'>(variant)</div><div class='xr-var-dtype'>float64</div><div class='xr-var-preview xr-preview'>nan nan nan nan ... nan nan nan nan</div><input id='attrs-bd6fb864-7ce3-4348-9aa1-607863c68b72' class='xr-var-attrs-in' type='checkbox' disabled><label for='attrs-bd6fb864-7ce3-4348-9aa1-607863c68b72' title='Show/Hide attributes'><svg class='icon xr-icon-file-text2'><use xlink:href='#icon-file-text2'></use></svg></label><input id='data-4a07ce9d-c373-4e95-b963-05d3e4989781' class='xr-var-data-in' type='checkbox'><label for='data-4a07ce9d-c373-4e95-b963-05d3e4989781' title='Show/Hide data repr'><svg class='icon xr-icon-database'><use xlink:href='#icon-database'></use></svg></label><div class='xr-var-attrs'><dl class='xr-attrs'></dl></div><div class='xr-var-data'><pre>array([nan, nan, nan, ..., nan, nan, nan])</pre></div></li><li class='xr-var-item'><div class='xr-var-name'><span>pos_cM</span></div><div class='xr-var-dims'>(variant)</div><div class='xr-var-dtype'>float64</div><div class='xr-var-preview xr-preview'>nan nan nan nan ... nan nan nan nan</div><input id='attrs-8e049296-6a0b-43f4-8f27-0efb0d14fb92' class='xr-var-attrs-in' type='checkbox' disabled><label for='attrs-8e049296-6a0b-43f4-8f27-0efb0d14fb92' title='Show/Hide attributes'><svg class='icon xr-icon-file-text2'><use xlink:href='#icon-file-text2'></use></svg></label><input id='data-6f4ecbd3-d9ae-41e5-b122-17a81163b8be' class='xr-var-data-in' type='checkbox'><label for='data-6f4ecbd3-d9ae-41e5-b122-17a81163b8be' title='Show/Hide data repr'><svg class='icon xr-icon-database'><use xlink:href='#icon-database'></use></svg></label><div class='xr-var-attrs'><dl class='xr-attrs'></dl></div><div class='xr-var-data'><pre>array([nan, nan, nan, ..., nan, nan, nan])</pre></div></li></ul></div></li><li class='xr-section-item'><input id='section-deeccf2c-8960-4cf0-8b92-4ad0c1c20659' class='xr-section-summary-in' type='checkbox'  ><label for='section-deeccf2c-8960-4cf0-8b92-4ad0c1c20659' class='xr-section-summary' >Indexes: <span>(2)</span></label><div class='xr-section-inline-details'></div><div class='xr-section-details'><ul class='xr-var-list'><li class='xr-var-item'><div class='xr-index-name'><div>sample</div></div><div class='xr-index-preview'>PandasIndex</div><div></div><input id='index-3aaaf747-d72d-45d3-a0c7-2863e6ab23d3' class='xr-index-data-in' type='checkbox'/><label for='index-3aaaf747-d72d-45d3-a0c7-2863e6ab23d3' title='Show/Hide index repr'><svg class='icon xr-icon-database'><use xlink:href='#icon-database'></use></svg></label><div class='xr-index-data'><pre>PandasIndex(Index([&#x27;0_0.0_0&#x27;, &#x27;0_1.0_1&#x27;, &#x27;0_2.0_2&#x27;, &#x27;0_3.0_3&#x27;, &#x27;0_4.0_4&#x27;, &#x27;0_5.0_5&#x27;,\n",
       "       &#x27;0_6.0_6&#x27;, &#x27;0_7.0_7&#x27;, &#x27;0_8.0_8&#x27;, &#x27;0_9.0_9&#x27;,\n",
       "       ...\n",
       "       &#x27;0_7990.0_7990&#x27;, &#x27;0_7991.0_7991&#x27;, &#x27;0_7992.0_7992&#x27;, &#x27;0_7993.0_7993&#x27;,\n",
       "       &#x27;0_7994.0_7994&#x27;, &#x27;0_7995.0_7995&#x27;, &#x27;0_7996.0_7996&#x27;, &#x27;0_7997.0_7997&#x27;,\n",
       "       &#x27;0_7998.0_7998&#x27;, &#x27;0_7999.0_7999&#x27;],\n",
       "      dtype=&#x27;object&#x27;, name=&#x27;sample&#x27;, length=8000))</pre></div></li><li class='xr-var-item'><div class='xr-index-name'><div>variant</div></div><div class='xr-index-preview'>PandasIndex</div><div></div><input id='index-42c4bf51-6f23-442c-a8e3-ed9436308eaa' class='xr-index-data-in' type='checkbox'/><label for='index-42c4bf51-6f23-442c-a8e3-ed9436308eaa' title='Show/Hide index repr'><svg class='icon xr-icon-database'><use xlink:href='#icon-database'></use></svg></label><div class='xr-index-data'><pre>PandasIndex(Index([&#x27;0.0&#x27;, &#x27;0.1&#x27;, &#x27;1.0&#x27;, &#x27;1.1&#x27;, &#x27;2.0&#x27;, &#x27;2.1&#x27;, &#x27;3.0&#x27;, &#x27;3.1&#x27;, &#x27;4.0&#x27;, &#x27;4.1&#x27;,\n",
       "       ...\n",
       "       &#x27;995.0&#x27;, &#x27;995.1&#x27;, &#x27;996.0&#x27;, &#x27;996.1&#x27;, &#x27;997.0&#x27;, &#x27;997.1&#x27;, &#x27;998.0&#x27;, &#x27;998.1&#x27;,\n",
       "       &#x27;999.0&#x27;, &#x27;999.1&#x27;],\n",
       "      dtype=&#x27;object&#x27;, name=&#x27;variant&#x27;, length=2000))</pre></div></li></ul></div></li><li class='xr-section-item'><input id='section-d43bb62e-8f8e-456c-9480-df78d73994e8' class='xr-section-summary-in' type='checkbox'  checked><label for='section-d43bb62e-8f8e-456c-9480-df78d73994e8' class='xr-section-summary' >Attributes: <span>(1)</span></label><div class='xr-section-inline-details'></div><div class='xr-section-details'><dl class='xr-attrs'><dt><span>generation :</span></dt><dd>0</dd></dl></div></li></ul></div></div>"
      ],
      "text/plain": [
       "<xarray.DataArray 'HaplotypeArray' (sample: 8000, variant: 2000)>\n",
       "array([[1, 0, 0, ..., 0, 1, 1],\n",
       "       [1, 1, 0, ..., 1, 0, 0],\n",
       "       [1, 1, 0, ..., 1, 0, 1],\n",
       "       ...,\n",
       "       [1, 1, 0, ..., 0, 0, 0],\n",
       "       [1, 0, 0, ..., 0, 0, 0],\n",
       "       [1, 0, 0, ..., 0, 1, 0]], dtype=int8)\n",
       "Coordinates: (12/13)\n",
       "  * sample       (sample) <U13 '0_0.0_0' '0_1.0_1' ... '0_7999.0_7999'\n",
       "    iid          (sample) object '0_0' '0_1' '0_2' ... '0_7998' '0_7999'\n",
       "    fid          (sample) object '0_0' '0_1' '0_2' ... '0_7998' '0_7999'\n",
       "    sex          (sample) int64 0 1 0 1 0 1 0 1 0 1 0 ... 1 0 1 0 1 0 1 0 1 0 1\n",
       "  * variant      (variant) <U5 '0.0' '0.1' '1.0' ... '998.1' '999.0' '999.1'\n",
       "    vid          (variant) object '0' '0' '1' '1' ... '998' '998' '999' '999'\n",
       "    ...           ...\n",
       "    hcopy        (variant) object '0' '1' '0' '1' '0' ... '1' '0' '1' '0' '1'\n",
       "    zero_allele  (variant) object 'A' 'A' 'A' 'A' 'A' ... 'A' 'A' 'A' 'A' 'A'\n",
       "    one_allele   (variant) object 'G' 'G' 'G' 'G' 'G' ... 'G' 'G' 'G' 'G' 'G'\n",
       "    af           (variant) float64 0.6572 0.6572 0.3289 ... 0.1033 0.3359 0.3359\n",
       "    pos_bp       (variant) float64 nan nan nan nan nan ... nan nan nan nan nan\n",
       "    pos_cM       (variant) float64 nan nan nan nan nan ... nan nan nan nan nan\n",
       "Attributes:\n",
       "    generation:  0"
      ]
     },
     "execution_count": 3,
     "metadata": {},
     "output_type": "execute_result"
    }
   ],
   "source": [
    "founder_haplotypes = xft.founders.founder_haplotypes_uniform_AFs(n=8000,\n",
    "                                                                 m=1000)\n",
    "founder_haplotypes"
   ]
  },
  {
   "cell_type": "markdown",
   "id": "7202e766-f214-4772-a1ee-c1b06f768694",
   "metadata": {},
   "source": [
    "For our **genetic architecture**, we will use the independent GCTA model, where for each individual we have\n",
    "\n",
    "$$y = m^{-1/2}X\\beta + e$$\n",
    "$$\\beta\\overset{iid}{\\sim}N(0, h^2)$$\n",
    "$$e\\sim N(0, 1-h^2)$$\n",
    "\n",
    "for heritability $h^2 \\in [0,1]$. This can be implemented in `xftsim` via the `arch.GCTA_Architecture` class:"
   ]
  },
  {
   "cell_type": "code",
   "execution_count": 4,
   "id": "f7b1289f-a718-4bef-be82-2b3db5ec20a0",
   "metadata": {
    "execution": {
     "iopub.execute_input": "2023-04-04T22:28:33.176061Z",
     "iopub.status.busy": "2023-04-04T22:28:33.174869Z",
     "iopub.status.idle": "2023-04-04T22:28:33.235629Z",
     "shell.execute_reply": "2023-04-04T22:28:33.234971Z",
     "shell.execute_reply.started": "2023-04-04T22:28:33.175948Z"
    },
    "tags": []
   },
   "outputs": [],
   "source": [
    "architecture = xft.arch.GCTA_Architecture(\n",
    "    h2=[.5,.5],\n",
    "    phenotype_name=['pheno_1', 'pheno_2'],\n",
    "    haplotypes=founder_haplotypes)"
   ]
  },
  {
   "cell_type": "markdown",
   "id": "975f873d-84fe-47e3-b7e4-cb6e5b5bea88",
   "metadata": {},
   "source": [
    "To keep things simple, we will use an exchangleable **recombination map** wherein recombination occurs between contiguous loci with independent probability `p=.1`: "
   ]
  },
  {
   "cell_type": "code",
   "execution_count": 5,
   "id": "9890609e-79de-4f37-a4a4-0aabadaff00b",
   "metadata": {
    "execution": {
     "iopub.execute_input": "2023-04-04T22:28:33.871071Z",
     "iopub.status.busy": "2023-04-04T22:28:33.870879Z",
     "iopub.status.idle": "2023-04-04T22:28:33.882095Z",
     "shell.execute_reply": "2023-04-04T22:28:33.881447Z",
     "shell.execute_reply.started": "2023-04-04T22:28:33.871055Z"
    },
    "tags": []
   },
   "outputs": [],
   "source": [
    "recombination_map = xft.reproduce.RecombinationMap.constant_map_from_haplotypes(founder_haplotypes,\n",
    "                                                                                p =.1)"
   ]
  },
  {
   "cell_type": "markdown",
   "id": "a9eff6d4-75fd-4a7c-bcdc-155af8125805",
   "metadata": {},
   "source": [
    "Finally, we choose our **mating regime** to reflect cross-trait assortative mating on a linear combination of two phenotypes with an exchangeable correlation of 0.5.\n",
    "Concretely, given female and male phenotypes $Y,\\tilde{Y}\\in R^{n\\times2}$, respectively, we will find a mating permutation $P$\n",
    "\n",
    "such that the empirical correlation is\n",
    "$$\\text{corr}(Y,P\\tilde{Y})=0.5\\cdot1_{2×2}.$$\n",
    "\n",
    "We will have each couple generate two offspring, maintaining a constant population size. We implement this regime below:"
   ]
  },
  {
   "cell_type": "code",
   "execution_count": 6,
   "id": "e757cf22-c823-4c73-a319-073f6a9f5334",
   "metadata": {
    "execution": {
     "iopub.execute_input": "2023-04-04T22:28:34.225820Z",
     "iopub.status.busy": "2023-04-04T22:28:34.225231Z",
     "iopub.status.idle": "2023-04-04T22:28:34.237037Z",
     "shell.execute_reply": "2023-04-04T22:28:34.235894Z",
     "shell.execute_reply.started": "2023-04-04T22:28:34.225729Z"
    },
    "tags": []
   },
   "outputs": [],
   "source": [
    "mating_regime = xft.mate.LinearAssortativeMatingRegime(r = .5, \n",
    "    component_index = xft.index.ComponentIndex.from_product(['pheno_1', 'pheno_2'],\n",
    "                                                            ['phenotype']),\n",
    "    offspring_per_pair=2)"
   ]
  },
  {
   "cell_type": "markdown",
   "id": "9253d36b-1dc6-4fc9-a2e7-f1051032a889",
   "metadata": {},
   "source": [
    "At each generation, we will request sample statistics and HE regression estimates. We will also use the `xft.proc.LimitMemory` post-processor to erase all but the most recent generation's haplotypes in order to conserve memory:"
   ]
  },
  {
   "cell_type": "code",
   "execution_count": 7,
   "id": "f3af3b1d-c206-4aaf-b7b9-e440ac1c9aee",
   "metadata": {
    "execution": {
     "iopub.execute_input": "2023-04-04T22:28:34.574501Z",
     "iopub.status.busy": "2023-04-04T22:28:34.573974Z",
     "iopub.status.idle": "2023-04-04T22:28:34.581128Z",
     "shell.execute_reply": "2023-04-04T22:28:34.579931Z",
     "shell.execute_reply.started": "2023-04-04T22:28:34.574453Z"
    },
    "tags": []
   },
   "outputs": [],
   "source": [
    "statistics = [xft.stats.MatingStatistics(),\n",
    "              xft.stats.SampleStatistics(),\n",
    "              xft.stats.HasemanElstonEstimator()]\n",
    "\n",
    "post_processors = [xft.proc.LimitMemory(n_haplotype_generations=1)]"
   ]
  },
  {
   "cell_type": "markdown",
   "id": "a44170e2-4917-431a-8cdd-343f2ece1e73",
   "metadata": {},
   "source": [
    "### Running a simulation and examining the results\n",
    "\n",
    "Our simulation is constructed by supplying each of the above to the `Simulation` constructor:"
   ]
  },
  {
   "cell_type": "code",
   "execution_count": 8,
   "id": "14c2b613-27e9-4560-bea3-097bdd200021",
   "metadata": {
    "execution": {
     "iopub.execute_input": "2023-04-04T22:28:35.002571Z",
     "iopub.status.busy": "2023-04-04T22:28:35.001608Z",
     "iopub.status.idle": "2023-04-04T22:28:35.014600Z",
     "shell.execute_reply": "2023-04-04T22:28:35.011704Z",
     "shell.execute_reply.started": "2023-04-04T22:28:35.002478Z"
    },
    "tags": []
   },
   "outputs": [],
   "source": [
    "sim = Simulation(founder_haplotypes=founder_haplotypes,\n",
    "                 mating_regime=mating_regime,\n",
    "                 recombination_map=recombination_map,\n",
    "                 architecture=architecture,\n",
    "                 statistics=statistics,\n",
    "                 post_processors=post_processors,)"
   ]
  },
  {
   "cell_type": "markdown",
   "id": "8d9b4d07-034b-46d8-ac72-7f4ea89c44d2",
   "metadata": {},
   "source": [
    "We will run the simulation for 5 generations, which takes just a few seconds on a laptop:"
   ]
  },
  {
   "cell_type": "code",
   "execution_count": 9,
   "id": "a38bb12d-76c6-4627-9c37-df50735851bf",
   "metadata": {
    "execution": {
     "iopub.execute_input": "2023-04-04T22:28:35.458898Z",
     "iopub.status.busy": "2023-04-04T22:28:35.458707Z",
     "iopub.status.idle": "2023-04-04T22:28:42.522744Z",
     "shell.execute_reply": "2023-04-04T22:28:42.521809Z",
     "shell.execute_reply.started": "2023-04-04T22:28:35.458881Z"
    },
    "tags": []
   },
   "outputs": [
    {
     "name": "stdout",
     "output_type": "stream",
     "text": [
      "CPU times: user 16.7 s, sys: 4.57 s, total: 21.3 s\n",
      "Wall time: 7.06 s\n"
     ]
    }
   ],
   "source": [
    "%time sim.run(5)"
   ]
  },
  {
   "cell_type": "markdown",
   "id": "d1f5cca9-5fae-4e4d-b4f5-743ece1a6751",
   "metadata": {},
   "source": [
    "The most recent generations are accessible in as a `dict` object in  `sim.results`, and all generations' results are stored in `sim.results_store`. First let's check that mating proceded as expected:"
   ]
  },
  {
   "cell_type": "code",
   "execution_count": 10,
   "id": "2822bb17-62cb-4dda-9d45-c2e600652084",
   "metadata": {
    "execution": {
     "iopub.execute_input": "2023-04-04T22:28:42.531113Z",
     "iopub.status.busy": "2023-04-04T22:28:42.528070Z",
     "iopub.status.idle": "2023-04-04T22:28:42.547060Z",
     "shell.execute_reply": "2023-04-04T22:28:42.546279Z",
     "shell.execute_reply.started": "2023-04-04T22:28:42.531073Z"
    },
    "tags": []
   },
   "outputs": [
    {
     "data": {
      "text/html": [
       "<div>\n",
       "<style scoped>\n",
       "    .dataframe tbody tr th:only-of-type {\n",
       "        vertical-align: middle;\n",
       "    }\n",
       "\n",
       "    .dataframe tbody tr th {\n",
       "        vertical-align: top;\n",
       "    }\n",
       "\n",
       "    .dataframe thead th {\n",
       "        text-align: right;\n",
       "    }\n",
       "</style>\n",
       "<table border=\"1\" class=\"dataframe\">\n",
       "  <thead>\n",
       "    <tr style=\"text-align: right;\">\n",
       "      <th>component</th>\n",
       "      <th>pheno_1.phenotype.mother</th>\n",
       "      <th>pheno_2.phenotype.mother</th>\n",
       "      <th>pheno_1.phenotype.father</th>\n",
       "      <th>pheno_2.phenotype.father</th>\n",
       "    </tr>\n",
       "    <tr>\n",
       "      <th>component</th>\n",
       "      <th></th>\n",
       "      <th></th>\n",
       "      <th></th>\n",
       "      <th></th>\n",
       "    </tr>\n",
       "  </thead>\n",
       "  <tbody>\n",
       "    <tr>\n",
       "      <th>pheno_1.phenotype.mother</th>\n",
       "      <td>1.000000</td>\n",
       "      <td>-0.047681</td>\n",
       "      <td>0.463318</td>\n",
       "      <td>0.448655</td>\n",
       "    </tr>\n",
       "    <tr>\n",
       "      <th>pheno_2.phenotype.mother</th>\n",
       "      <td>-0.047681</td>\n",
       "      <td>1.000000</td>\n",
       "      <td>0.449102</td>\n",
       "      <td>0.462603</td>\n",
       "    </tr>\n",
       "    <tr>\n",
       "      <th>pheno_1.phenotype.father</th>\n",
       "      <td>0.463318</td>\n",
       "      <td>0.449102</td>\n",
       "      <td>1.000000</td>\n",
       "      <td>-0.043387</td>\n",
       "    </tr>\n",
       "    <tr>\n",
       "      <th>pheno_2.phenotype.father</th>\n",
       "      <td>0.448655</td>\n",
       "      <td>0.462603</td>\n",
       "      <td>-0.043387</td>\n",
       "      <td>1.000000</td>\n",
       "    </tr>\n",
       "  </tbody>\n",
       "</table>\n",
       "</div>"
      ],
      "text/plain": [
       "component                 pheno_1.phenotype.mother  pheno_2.phenotype.mother  \\\n",
       "component                                                                      \n",
       "pheno_1.phenotype.mother                  1.000000                 -0.047681   \n",
       "pheno_2.phenotype.mother                 -0.047681                  1.000000   \n",
       "pheno_1.phenotype.father                  0.463318                  0.449102   \n",
       "pheno_2.phenotype.father                  0.448655                  0.462603   \n",
       "\n",
       "component                 pheno_1.phenotype.father  pheno_2.phenotype.father  \n",
       "component                                                                     \n",
       "pheno_1.phenotype.mother                  0.463318                  0.448655  \n",
       "pheno_2.phenotype.mother                  0.449102                  0.462603  \n",
       "pheno_1.phenotype.father                  1.000000                 -0.043387  \n",
       "pheno_2.phenotype.father                 -0.043387                  1.000000  "
      ]
     },
     "execution_count": 10,
     "metadata": {},
     "output_type": "execute_result"
    }
   ],
   "source": [
    "## generation 0\n",
    "sim.results_store[0]['mating_statistics']['mate_correlations']"
   ]
  },
  {
   "cell_type": "code",
   "execution_count": 11,
   "id": "421b602d-3070-411d-878a-8c1cdbb8f791",
   "metadata": {
    "execution": {
     "iopub.execute_input": "2023-04-04T22:28:42.548635Z",
     "iopub.status.busy": "2023-04-04T22:28:42.548004Z",
     "iopub.status.idle": "2023-04-04T22:28:42.570218Z",
     "shell.execute_reply": "2023-04-04T22:28:42.569358Z",
     "shell.execute_reply.started": "2023-04-04T22:28:42.548609Z"
    },
    "tags": []
   },
   "outputs": [
    {
     "data": {
      "text/html": [
       "<div>\n",
       "<style scoped>\n",
       "    .dataframe tbody tr th:only-of-type {\n",
       "        vertical-align: middle;\n",
       "    }\n",
       "\n",
       "    .dataframe tbody tr th {\n",
       "        vertical-align: top;\n",
       "    }\n",
       "\n",
       "    .dataframe thead th {\n",
       "        text-align: right;\n",
       "    }\n",
       "</style>\n",
       "<table border=\"1\" class=\"dataframe\">\n",
       "  <thead>\n",
       "    <tr style=\"text-align: right;\">\n",
       "      <th>component</th>\n",
       "      <th>pheno_1.phenotype.mother</th>\n",
       "      <th>pheno_2.phenotype.mother</th>\n",
       "      <th>pheno_1.phenotype.father</th>\n",
       "      <th>pheno_2.phenotype.father</th>\n",
       "    </tr>\n",
       "    <tr>\n",
       "      <th>component</th>\n",
       "      <th></th>\n",
       "      <th></th>\n",
       "      <th></th>\n",
       "      <th></th>\n",
       "    </tr>\n",
       "  </thead>\n",
       "  <tbody>\n",
       "    <tr>\n",
       "      <th>pheno_1.phenotype.mother</th>\n",
       "      <td>1.000000</td>\n",
       "      <td>0.107215</td>\n",
       "      <td>0.500763</td>\n",
       "      <td>0.495196</td>\n",
       "    </tr>\n",
       "    <tr>\n",
       "      <th>pheno_2.phenotype.mother</th>\n",
       "      <td>0.107215</td>\n",
       "      <td>1.000000</td>\n",
       "      <td>0.490035</td>\n",
       "      <td>0.512701</td>\n",
       "    </tr>\n",
       "    <tr>\n",
       "      <th>pheno_1.phenotype.father</th>\n",
       "      <td>0.500763</td>\n",
       "      <td>0.490035</td>\n",
       "      <td>1.000000</td>\n",
       "      <td>0.136145</td>\n",
       "    </tr>\n",
       "    <tr>\n",
       "      <th>pheno_2.phenotype.father</th>\n",
       "      <td>0.495196</td>\n",
       "      <td>0.512701</td>\n",
       "      <td>0.136145</td>\n",
       "      <td>1.000000</td>\n",
       "    </tr>\n",
       "  </tbody>\n",
       "</table>\n",
       "</div>"
      ],
      "text/plain": [
       "component                 pheno_1.phenotype.mother  pheno_2.phenotype.mother  \\\n",
       "component                                                                      \n",
       "pheno_1.phenotype.mother                  1.000000                  0.107215   \n",
       "pheno_2.phenotype.mother                  0.107215                  1.000000   \n",
       "pheno_1.phenotype.father                  0.500763                  0.490035   \n",
       "pheno_2.phenotype.father                  0.495196                  0.512701   \n",
       "\n",
       "component                 pheno_1.phenotype.father  pheno_2.phenotype.father  \n",
       "component                                                                     \n",
       "pheno_1.phenotype.mother                  0.500763                  0.495196  \n",
       "pheno_2.phenotype.mother                  0.490035                  0.512701  \n",
       "pheno_1.phenotype.father                  1.000000                  0.136145  \n",
       "pheno_2.phenotype.father                  0.136145                  1.000000  "
      ]
     },
     "execution_count": 11,
     "metadata": {},
     "output_type": "execute_result"
    }
   ],
   "source": [
    "## generation 4\n",
    "sim.results_store[4]['mating_statistics']['mate_correlations']\n",
    "## same as \n",
    "sim.results['mating_statistics']['mate_correlations']\n"
   ]
  },
  {
   "cell_type": "markdown",
   "id": "a550f4c7-0ffd-4aa5-8e8c-aad0fcad15d3",
   "metadata": {},
   "source": [
    "Next, let's compare three quanitites across generations:\n",
    " - `rho_beta_true`, the correlation between true genetic effects for `pheno_1` and `pheno_2`, which doesn't vary over time\n",
    " - `rho_score_true`, the correlation between true polygenic scores for `pheno_1` and `pheno_2`, which reflects changes in genetic architecture induced by xAM\n",
    " - `rho_beta_HE`, the HE-regression estimate of `rho_beta_true`, which is biased upwards under xAM"
   ]
  },
  {
   "cell_type": "code",
   "execution_count": 12,
   "id": "9a572a45-308e-4077-a3c0-6a8e0170ca4a",
   "metadata": {
    "execution": {
     "iopub.execute_input": "2023-04-04T22:28:42.574846Z",
     "iopub.status.busy": "2023-04-04T22:28:42.573547Z",
     "iopub.status.idle": "2023-04-04T22:28:42.779014Z",
     "shell.execute_reply": "2023-04-04T22:28:42.778434Z",
     "shell.execute_reply.started": "2023-04-04T22:28:42.574807Z"
    },
    "tags": []
   },
   "outputs": [
    {
     "data": {
      "text/plain": [
       "<Axes: xlabel='generation', ylabel='genetic correlation measure'>"
      ]
     },
     "execution_count": 12,
     "metadata": {},
     "output_type": "execute_result"
    },
    {
     "data": {
      "image/png": "[encoded data removed]",
      "text/plain": [
       "<Figure size 432x288 with 1 Axes>"
      ]
     },
     "metadata": {
      "needs_background": "light"
     },
     "output_type": "display_data"
    }
   ],
   "source": [
    "results = pd.DataFrame.from_records([{'generation':key, \n",
    "  'rho_beta_HE':value['HE_regression']['corr_HE'].iloc[1,0],\n",
    "  'rho_score_true':value['sample_statistics']['vcov'].iloc[1,0],\n",
    "  'rho_beta_true':sim.architecture.components[0].true_rho_beta[1,0]} for key,value in sim.results_store.items()]\n",
    "                         )\n",
    "\n",
    "pdat = pd.melt(results, id_vars='generation', var_name='quantity',\n",
    "               value_name='genetic correlation measure')\n",
    "sns.lineplot(data=pdat, \n",
    "           x='generation',\n",
    "           y='genetic correlation measure',\n",
    "           hue='quantity',)\n",
    "sns.scatterplot(data=pdat, \n",
    "           x='generation',\n",
    "           y='genetic correlation measure',\n",
    "           hue='quantity',legend=False)"
   ]
  },
  {
   "cell_type": "markdown",
   "id": "3548e936-cfcf-4935-be06-4aff2a406197",
   "metadata": {},
   "source": [
    "Finally, we save the generation 4 genotypes to disk. Here, we write to zarr, an efficient parallel format ideal for cases where we'd like to reload the data into python, but also to the plink binary format:"
   ]
  },
  {
   "cell_type": "code",
   "execution_count": 13,
   "id": "6d539c0f-ff8d-4047-8fe1-dee2828d5deb",
   "metadata": {
    "execution": {
     "iopub.execute_input": "2023-04-04T22:28:42.780048Z",
     "iopub.status.busy": "2023-04-04T22:28:42.779813Z",
     "iopub.status.idle": "2023-04-04T22:28:42.957158Z",
     "shell.execute_reply": "2023-04-04T22:28:42.956616Z",
     "shell.execute_reply.started": "2023-04-04T22:28:42.780024Z"
    },
    "tags": []
   },
   "outputs": [
    {
     "name": "stderr",
     "output_type": "stream",
     "text": [
      "/home/rsb/miniconda3/lib/python3.9/site-packages/xftsim/io.py:208: UserWarning: Writing to the plink bfile format removes phase information\n",
      "  warnings.warn(\"Writing to the plink bfile format removes phase information\")\n",
      "Writing BED: 100%|████████████████████████████████████████████████████████████████████████████████████████████████████████████████████████████████████████████████████████████████████| 1/1 [00:00<00:00, 10.52it/s]"
     ]
    },
    {
     "name": "stdout",
     "output_type": "stream",
     "text": [
      "Writing FAM... done.\n",
      "Writing BIM... done.\n"
     ]
    },
    {
     "name": "stderr",
     "output_type": "stream",
     "text": [
      "\n",
      "/home/rsb/miniconda3/lib/python3.9/site-packages/pandas_plink/_write.py:261: FutureWarning: the 'line_terminator'' keyword is deprecated, use 'lineterminator' instead.\n",
      "  df.to_csv(\n",
      "/home/rsb/miniconda3/lib/python3.9/site-packages/pandas_plink/_write.py:288: FutureWarning: the 'line_terminator'' keyword is deprecated, use 'lineterminator' instead.\n",
      "  df.to_csv(\n"
     ]
    }
   ],
   "source": [
    "xft.io.write_to_plink1(sim.haplotypes, '/tmp/plink_output')"
   ]
  },
  {
   "cell_type": "code",
   "execution_count": 14,
   "id": "73fce219-edeb-499a-97fb-b7427940e75b",
   "metadata": {
    "execution": {
     "iopub.execute_input": "2023-04-04T22:28:42.958357Z",
     "iopub.status.busy": "2023-04-04T22:28:42.957967Z",
     "iopub.status.idle": "2023-04-04T22:28:43.061797Z",
     "shell.execute_reply": "2023-04-04T22:28:43.061290Z",
     "shell.execute_reply.started": "2023-04-04T22:28:42.958331Z"
    },
    "tags": []
   },
   "outputs": [],
   "source": [
    "xft.io.save_haplotype_zarr(sim.haplotypes, '/tmp/zarr_output', mode='w')"
   ]
  }
 ],
 "metadata": {
  "kernelspec": {
   "display_name": "Python 3 (ipykernel)",
   "language": "python",
   "name": "python3"
  },
  "language_info": {
   "codemirror_mode": {
    "name": "ipython",
    "version": 3
   },
   "file_extension": ".py",
   "mimetype": "text/x-python",
   "name": "python",
   "nbconvert_exporter": "python",
   "pygments_lexer": "ipython3",
   "version": "3.9.15"
  }
 },
 "nbformat": 4,
 "nbformat_minor": 5
}
