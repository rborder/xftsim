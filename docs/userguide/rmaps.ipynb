{
 "cells": [
  {
   "cell_type": "markdown",
   "id": "9b721812-05c9-4db1-a374-7b80aa71398b",
   "metadata": {},
   "source": [
    "# Recombination\n",
    "\n",
    "`xftsim` provides methods for simulating recombination under simplistic and realistic models. In practice, we've observed that both procedures tend to yield highly similar results, but we are open to counterexamples. We therefore try to make both simplistic and complex recombination simulations painless.\n",
    "\n"
   ]
  },
  {
   "cell_type": "code",
   "execution_count": 1,
   "id": "3c47b15f-9b55-4453-b608-356b6ae64a70",
   "metadata": {
    "execution": {
     "iopub.execute_input": "2023-04-14T20:41:12.235212Z",
     "iopub.status.busy": "2023-04-14T20:41:12.234310Z",
     "iopub.status.idle": "2023-04-14T20:41:14.975773Z",
     "shell.execute_reply": "2023-04-14T20:41:14.975234Z",
     "shell.execute_reply.started": "2023-04-14T20:41:12.235155Z"
    },
    "tags": []
   },
   "outputs": [],
   "source": [
    "import xftsim as xft\n",
    "from xftsim.reproduce import RecombinationMap"
   ]
  },
  {
   "cell_type": "markdown",
   "id": "4692ac52-d470-45b1-b236-0ab7b6daf565",
   "metadata": {},
   "source": [
    "A `RecombinationMap` object maps ordered collections of $m$ diploid variants per chromosome to a vector of $m$ probabilities $p$. The first element of $p$ in each chromsome is always 0.5, reflecting the randomness of Mendelian inheritance, and the others reflect the independent probabilities of recombination events occuring between contiguous loci. There are currently no mechanisms for interference or subpopulation-specific recombination maps.\n",
    "\n",
    "## Simple recombination schemes\n",
    "\n",
    "The simplest recombination scheme sets all elements of $p$ (except those on chromosome boundaries) to a single value. 0.5 would then corresponded to fully unlinked loci, with the strength of local LD increasing as we approach zero. If we provide a single value as the $p$ argument, this is what we get:\n"
   ]
  },
  {
   "cell_type": "code",
   "execution_count": 2,
   "id": "ef5a1d05-40c4-4402-952a-72f02e4908cf",
   "metadata": {
    "execution": {
     "iopub.execute_input": "2023-04-14T20:41:14.976426Z",
     "iopub.status.busy": "2023-04-14T20:41:14.976222Z",
     "iopub.status.idle": "2023-04-14T20:41:15.632730Z",
     "shell.execute_reply": "2023-04-14T20:41:15.632160Z",
     "shell.execute_reply.started": "2023-04-14T20:41:14.976409Z"
    },
    "tags": []
   },
   "outputs": [
    {
     "data": {
      "text/plain": [
       "   vid  chrom    p\n",
       "0    0      0  0.5\n",
       "1    1      0  0.1\n",
       "2    2      0  0.1\n",
       "3    3      0  0.1\n",
       "4    4      1  0.5\n",
       "..  ..    ...  ...\n",
       "75  75     18  0.1\n",
       "76  76     19  0.5\n",
       "77  77     19  0.1\n",
       "78  78     19  0.1\n",
       "79  79     19  0.1\n",
       "\n",
       "[80 rows x 3 columns]"
      ]
     },
     "execution_count": 2,
     "metadata": {},
     "output_type": "execute_result"
    }
   ],
   "source": [
    "demo = xft.sim.DemoSimulation(m=80)\n",
    "haplotypes = demo.haplotypes\n",
    "\n",
    "rmap = RecombinationMap(p=.1, vindex=haplotypes.xft.get_variant_indexer()) \n",
    "rmap"
   ]
  },
  {
   "cell_type": "markdown",
   "id": "79a6587e-1961-45fb-b0e0-d2bf09949dff",
   "metadata": {},
   "source": [
    "We can achieve the same outcome providing haplotypes (instead of a variant index) directly using the `constant_map_from_haplotypes` method:"
   ]
  },
  {
   "cell_type": "code",
   "execution_count": 3,
   "id": "f5b67126-2c45-48a9-a640-679734cc12a4",
   "metadata": {
    "execution": {
     "iopub.execute_input": "2023-04-14T20:41:15.633709Z",
     "iopub.status.busy": "2023-04-14T20:41:15.633434Z",
     "iopub.status.idle": "2023-04-14T20:41:15.642126Z",
     "shell.execute_reply": "2023-04-14T20:41:15.641399Z",
     "shell.execute_reply.started": "2023-04-14T20:41:15.633686Z"
    },
    "tags": []
   },
   "outputs": [
    {
     "data": {
      "text/plain": [
       "   vid  chrom    p\n",
       "0    0      0  0.5\n",
       "1    1      0  0.1\n",
       "2    2      0  0.1\n",
       "3    3      0  0.1\n",
       "4    4      1  0.5\n",
       "..  ..    ...  ...\n",
       "75  75     18  0.1\n",
       "76  76     19  0.5\n",
       "77  77     19  0.1\n",
       "78  78     19  0.1\n",
       "79  79     19  0.1\n",
       "\n",
       "[80 rows x 3 columns]"
      ]
     },
     "execution_count": 3,
     "metadata": {},
     "output_type": "execute_result"
    }
   ],
   "source": [
    "RecombinationMap.constant_map_from_haplotypes(p=.1, haplotypes=haplotypes)"
   ]
  },
  {
   "cell_type": "markdown",
   "id": "2373b2f7-8b73-4d0a-a34e-626f6b435dda",
   "metadata": {},
   "source": [
    "We can also construct a fully arbitrary recombination map by supplying a vector of probabilities rather than a single value:"
   ]
  },
  {
   "cell_type": "code",
   "execution_count": 4,
   "id": "d37341a3-a7e4-47b4-98e1-3ddcf901386c",
   "metadata": {
    "execution": {
     "iopub.execute_input": "2023-04-14T20:41:15.644239Z",
     "iopub.status.busy": "2023-04-14T20:41:15.643951Z",
     "iopub.status.idle": "2023-04-14T20:41:15.654408Z",
     "shell.execute_reply": "2023-04-14T20:41:15.653737Z",
     "shell.execute_reply.started": "2023-04-14T20:41:15.644216Z"
    },
    "tags": []
   },
   "outputs": [
    {
     "data": {
      "text/plain": [
       "   vid  chrom         p\n",
       "0    0      0  0.500000\n",
       "1    1      0  0.916344\n",
       "2    2      0  0.969233\n",
       "3    3      0  0.488298\n",
       "4    4      1  0.500000\n",
       "..  ..    ...       ...\n",
       "75  75     18  0.832223\n",
       "76  76     19  0.500000\n",
       "77  77     19  0.530739\n",
       "78  78     19  0.401417\n",
       "79  79     19  0.368004\n",
       "\n",
       "[80 rows x 3 columns]"
      ]
     },
     "execution_count": 4,
     "metadata": {},
     "output_type": "execute_result"
    }
   ],
   "source": [
    "import numpy as np\n",
    "RecombinationMap(p=np.random.uniform(size=haplotypes.xft.m),\n",
    "                 vindex=haplotypes.xft.get_variant_indexer()) "
   ]
  },
  {
   "cell_type": "markdown",
   "id": "df647e20-6f98-49b4-b03a-2a0358a1718e",
   "metadata": {},
   "source": [
    "## Realistic recombination schemes\n",
    "\n",
    "Given a haplotype array with genetic distances stored in the `pos_cM` coordinate of it's variant index, we can construct the corresponding recombination map. If the haplotype array doesn't have genetic distance information, we can interpolate it using a genetic map\n",
    "\n",
    "We demonstrate this below using the example genotype data for parts of chromosome 11 and 12 from the `pandas-plink` library and a genetic map downloaded from the [pyrho project](https://github.com/popgenmethods/pyrho):"
   ]
  },
  {
   "cell_type": "code",
   "execution_count": 5,
   "id": "3644fbcf-f645-4178-a728-d5c1980736fc",
   "metadata": {
    "execution": {
     "iopub.execute_input": "2023-04-14T20:41:15.655409Z",
     "iopub.status.busy": "2023-04-14T20:41:15.655074Z",
     "iopub.status.idle": "2023-04-14T20:41:16.516606Z",
     "shell.execute_reply": "2023-04-14T20:41:16.516047Z",
     "shell.execute_reply.started": "2023-04-14T20:41:15.655392Z"
    },
    "tags": []
   },
   "outputs": [
    {
     "name": "stderr",
     "output_type": "stream",
     "text": [
      "/home/rsb/miniconda3/lib/python3.9/site-packages/pandas_plink/_read.py:288: UserWarning: More than one FAM file has been specified. Only the first one will be considered.\n",
      "  warnings.warn(msg, UserWarning)\n",
      "Mapping files: 100%|█████████████████████████████████████████████████████████████████████████████████████████████████████████████████████████████████████████████████████████████████| 5/5 [00:00<00:00, 396.08it/s]\n",
      "Mapping files:  83%|██████████████████████████████████████████████████████████████████████████████████████████████████████████████████████████████████████▏                          | 5/6 [00:00<00:00, 483.60it/s]\n"
     ]
    },
    {
     "name": "stdout",
     "output_type": "stream",
     "text": [
      "Multiple files read in this order: ['chr11', 'chr12']\n"
     ]
    }
   ],
   "source": [
    "from pandas_plink import get_data_folder\n",
    "from os.path import join\n",
    "\n",
    "pdat = xft.founders.founder_haplotypes_from_plink_bfile(join(get_data_folder(), \"chr*.bed\")).compute()\n"
   ]
  },
  {
   "cell_type": "markdown",
   "id": "3440a354-5fd1-476b-9949-f861488646b6",
   "metadata": {},
   "source": [
    "Note that this data doesn't include genetic distances:"
   ]
  },
  {
   "cell_type": "code",
   "execution_count": 6,
   "id": "5a756731-96b1-4650-b4f9-9015ae97b455",
   "metadata": {
    "execution": {
     "iopub.execute_input": "2023-04-14T20:41:16.517196Z",
     "iopub.status.busy": "2023-04-14T20:41:16.517046Z",
     "iopub.status.idle": "2023-04-14T20:41:16.527861Z",
     "shell.execute_reply": "2023-04-14T20:41:16.527225Z",
     "shell.execute_reply.started": "2023-04-14T20:41:16.517181Z"
    },
    "tags": []
   },
   "outputs": [
    {
     "data": {
      "text/plain": [
       "array([nan, nan, nan, ..., nan, nan, nan])"
      ]
     },
     "execution_count": 6,
     "metadata": {},
     "output_type": "execute_result"
    }
   ],
   "source": [
    "pdat.xft.get_variant_indexer().pos_cM"
   ]
  },
  {
   "cell_type": "markdown",
   "id": "ef1a2c57-37f1-4991-a3e3-f0fa597190ad",
   "metadata": {},
   "source": [
    "We can read the pyrho maps in using `xft.struct.GeneticMap.from_pyrho_maps` and then use `xft.interpolate_cM` DataArray method to interpolate the cM distances:"
   ]
  },
  {
   "cell_type": "code",
   "execution_count": 7,
   "id": "9e212044-370d-43cc-aa77-b869192db7fb",
   "metadata": {
    "execution": {
     "iopub.execute_input": "2023-04-14T20:41:16.528972Z",
     "iopub.status.busy": "2023-04-14T20:41:16.528692Z",
     "iopub.status.idle": "2023-04-14T20:41:18.482505Z",
     "shell.execute_reply": "2023-04-14T20:41:18.481905Z",
     "shell.execute_reply.started": "2023-04-14T20:41:16.528949Z"
    },
    "tags": []
   },
   "outputs": [
    {
     "data": {
      "text/plain": [
       "array([ 0.08585632,  0.08585632,  0.14418587, ..., 28.92352049,\n",
       "       28.93298451, 28.93298451])"
      ]
     },
     "execution_count": 7,
     "metadata": {},
     "output_type": "execute_result"
    }
   ],
   "source": [
    "paths = ['/tmp/hg19/YRI/YRI_recombination_map_hapmap_format_hg19_chr_'+str(i)+'.txt' for i in range(1,23)]\n",
    "\n",
    "gmap = xft.struct.GeneticMap.from_pyrho_maps(paths)\n",
    "\n",
    "pdat.xft.interpolate_cM(gmap)\n",
    "pdat.xft.get_variant_indexer().pos_cM"
   ]
  },
  {
   "cell_type": "markdown",
   "id": "6dc74477-a453-4e57-b133-0f2bfa386034",
   "metadata": {
    "execution": {
     "iopub.execute_input": "2023-04-14T20:38:03.257511Z",
     "iopub.status.busy": "2023-04-14T20:38:03.256838Z",
     "iopub.status.idle": "2023-04-14T20:38:03.266981Z",
     "shell.execute_reply": "2023-04-14T20:38:03.266182Z",
     "shell.execute_reply.started": "2023-04-14T20:38:03.257485Z"
    },
    "tags": []
   },
   "source": [
    "Finally we can construct a recombination map from these haplotypes with genetic distance information using the `variable_map_from_haplotypes_with_cM` method:"
   ]
  },
  {
   "cell_type": "code",
   "execution_count": 8,
   "id": "87d55fc7-5a32-4300-bcff-862b31539bf0",
   "metadata": {
    "execution": {
     "iopub.execute_input": "2023-04-14T20:41:18.483493Z",
     "iopub.status.busy": "2023-04-14T20:41:18.483281Z",
     "iopub.status.idle": "2023-04-14T20:41:18.499821Z",
     "shell.execute_reply": "2023-04-14T20:41:18.499153Z",
     "shell.execute_reply.started": "2023-04-14T20:41:18.483472Z"
    },
    "tags": []
   },
   "outputs": [
    {
     "data": {
      "text/plain": [
       "            vid chrom         p\n",
       "0     316849996    11  0.500000\n",
       "1     316874359    11  0.000583\n",
       "2     316941526    11  0.000953\n",
       "3     317137620    11  0.006634\n",
       "4     317534352    11  0.002456\n",
       "...         ...   ...       ...\n",
       "1247  372752160    12  0.000014\n",
       "1248  372819760    12  0.000299\n",
       "1249  372877404    12  0.000245\n",
       "1250  372918788    12  0.000137\n",
       "1251  373081507    12  0.000095\n",
       "\n",
       "[1252 rows x 3 columns]"
      ]
     },
     "execution_count": 8,
     "metadata": {},
     "output_type": "execute_result"
    }
   ],
   "source": [
    "RecombinationMap.variable_map_from_haplotypes_with_cM(pdat)"
   ]
  }
 ],
 "metadata": {
  "kernelspec": {
   "display_name": "Python 3 (ipykernel)",
   "language": "python",
   "name": "python3"
  },
  "language_info": {
   "codemirror_mode": {
    "name": "ipython",
    "version": 3
   },
   "file_extension": ".py",
   "mimetype": "text/x-python",
   "name": "python",
   "nbconvert_exporter": "python",
   "pygments_lexer": "ipython3",
   "version": "3.9.15"
  }
 },
 "nbformat": 4,
 "nbformat_minor": 5
}
