{
 "cells": [
  {
   "cell_type": "markdown",
   "id": "87cd81ba-e255-4c7d-aad1-78352987c743",
   "metadata": {},
   "source": [
    "# Post-processors\n",
    "\n",
    "## Overview\n",
    "\n",
    "We use the phrase \"post-processors\" to auxilliary actions you want to perform each generation that aren't statistics. This includes actions such as writing phenotypes or haplotypes to disk and erasing data from previous generations to limit memory use. We go through these features below\n",
    "\n",
    "## Limiting memory use\n",
    "\n",
    "We can use `xft.proc.LimitMemory` to delete data that we no longer require at the end of each generation. Usage is straightforward following the docstring:"
   ]
  },
  {
   "cell_type": "code",
   "execution_count": 3,
   "id": "10c45998-ffa1-4362-b08b-06c12aae138c",
   "metadata": {
    "execution": {
     "iopub.execute_input": "2023-04-18T23:42:15.977576Z",
     "iopub.status.busy": "2023-04-18T23:42:15.976774Z",
     "iopub.status.idle": "2023-04-18T23:42:15.990783Z",
     "shell.execute_reply": "2023-04-18T23:42:15.989476Z",
     "shell.execute_reply.started": "2023-04-18T23:42:15.977501Z"
    },
    "tags": []
   },
   "outputs": [
    {
     "data": {
      "text/plain": [
       "\u001b[0;31mInit signature:\u001b[0m\n",
       "\u001b[0mxft\u001b[0m\u001b[0;34m.\u001b[0m\u001b[0mproc\u001b[0m\u001b[0;34m.\u001b[0m\u001b[0mLimitMemory\u001b[0m\u001b[0;34m(\u001b[0m\u001b[0;34m\u001b[0m\n",
       "\u001b[0;34m\u001b[0m    \u001b[0mn_haplotype_generations\u001b[0m\u001b[0;34m:\u001b[0m \u001b[0mint\u001b[0m \u001b[0;34m=\u001b[0m \u001b[0;34m-\u001b[0m\u001b[0;36m1\u001b[0m\u001b[0;34m,\u001b[0m\u001b[0;34m\u001b[0m\n",
       "\u001b[0;34m\u001b[0m    \u001b[0mn_phenotype_generations\u001b[0m\u001b[0;34m:\u001b[0m \u001b[0mint\u001b[0m \u001b[0;34m=\u001b[0m \u001b[0;34m-\u001b[0m\u001b[0;36m1\u001b[0m\u001b[0;34m,\u001b[0m\u001b[0;34m\u001b[0m\n",
       "\u001b[0;34m\u001b[0m\u001b[0;34m)\u001b[0m\u001b[0;34m\u001b[0m\u001b[0;34m\u001b[0m\u001b[0m\n",
       "\u001b[0;31mDocstring:\u001b[0m     \n",
       "Class to limit the amount of memory used by the simulation by deleting old haplotype and/or phenotype data.\n",
       "Parameters:\n",
       "-----------\n",
       "n_haplotype_generations: int, optional\n",
       "    The number of haplotype generations to keep. If -1, keep all generations. Default is -1.\n",
       "n_phenotype_generations: int, optional\n",
       "    The number of phenotype generations to keep. If -1, keep all generations. Default is -1.\n",
       "\n",
       "Methods:\n",
       "--------\n",
       "processor(sim: xft.sim.Simulation) -> None:\n",
       "    Deletes old haplotype and/or phenotype data from the simulation.\n",
       "\u001b[0;31mFile:\u001b[0m           ~/Dropbox/ftsim/xftsim/xftsim/proc.py\n",
       "\u001b[0;31mType:\u001b[0m           type\n",
       "\u001b[0;31mSubclasses:\u001b[0m     \n"
      ]
     },
     "metadata": {},
     "output_type": "display_data"
    }
   ],
   "source": [
    "import xftsim as xft\n",
    "\n",
    "?xft.proc.LimitMemory"
   ]
  },
  {
   "cell_type": "markdown",
   "id": "bdf4eb04-4879-4cbc-8ee5-a2ac81786e63",
   "metadata": {
    "execution": {
     "iopub.execute_input": "2023-04-18T23:40:38.824016Z",
     "iopub.status.busy": "2023-04-18T23:40:38.821937Z",
     "iopub.status.idle": "2023-04-18T23:40:41.488631Z",
     "shell.execute_reply": "2023-04-18T23:40:41.487926Z",
     "shell.execute_reply.started": "2023-04-18T23:40:38.823932Z"
    },
    "tags": []
   },
   "source": [
    "## Saving output to disk\n",
    "\n",
    "This feature is coming soon. For now, we recommend running simulations one generation at a time and saving when desired. For information on writing data to disk, see the [founder data tutorial](./founder.ipynb).\n"
   ]
  }
 ],
 "metadata": {
  "kernelspec": {
   "display_name": "Python 3 (ipykernel)",
   "language": "python",
   "name": "python3"
  },
  "language_info": {
   "codemirror_mode": {
    "name": "ipython",
    "version": 3
   },
   "file_extension": ".py",
   "mimetype": "text/x-python",
   "name": "python",
   "nbconvert_exporter": "python",
   "pygments_lexer": "ipython3",
   "version": "3.9.15"
  }
 },
 "nbformat": 4,
 "nbformat_minor": 5
}
