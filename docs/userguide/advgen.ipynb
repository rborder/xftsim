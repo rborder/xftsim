{
 "cells": [
  {
   "cell_type": "markdown",
   "id": "84a449fb-0dfd-452c-b744-b3826770a70e",
   "metadata": {
    "execution": {
     "iopub.execute_input": "2023-04-21T17:55:13.381288Z",
     "iopub.status.busy": "2023-04-21T17:55:13.381105Z",
     "iopub.status.idle": "2023-04-21T17:55:13.384257Z",
     "shell.execute_reply": "2023-04-21T17:55:13.383655Z",
     "shell.execute_reply.started": "2023-04-21T17:55:13.381270Z"
    },
    "tags": []
   },
   "source": [
    "# Advanced genetic architectures\n",
    "\n",
    "Here we consider more complicated genetic architecture components.\n",
    "\n",
    "## Paritially overlapping non-infinitessimal models\n",
    "\n",
    "Here we consider genetic effects for two traits, $Y$, $Z$, such that genome is partitioned into 5 sets:\n",
    "\n",
    " 1. variants causal for $Y$ but not $Z$ \n",
    " 2. variants causal for $Z$ but not $Y$\n",
    " 3. variants causal for $Y$ and $Z$ with orthogonal effects\n",
    " 4. variants causal for $Y$ and $Z$ with correlated effects with r = 0.5\n",
    " 5. non-causal variants\n",
    " \n",
    "We'll have the heritabilities be 0.5 and 0.4 for $Y$ and $Z$, respectively, and have each causal set for the two variables account for one third of the total heritability.\n",
    " \n",
    "The simplest way to achieve this is to manually construct a set of effects:\n",
    " "
   ]
  },
  {
   "cell_type": "code",
   "execution_count": 31,
   "id": "f3b4ba11-944a-42ed-b552-bc3c67ab900b",
   "metadata": {
    "execution": {
     "iopub.execute_input": "2023-04-21T19:21:40.897554Z",
     "iopub.status.busy": "2023-04-21T19:21:40.897088Z",
     "iopub.status.idle": "2023-04-21T19:21:42.909200Z",
     "shell.execute_reply": "2023-04-21T19:21:42.908635Z",
     "shell.execute_reply.started": "2023-04-21T19:21:40.897515Z"
    },
    "tags": []
   },
   "outputs": [],
   "source": [
    "import xftsim as xft\n",
    "import numpy as np\n",
    "np.random.seed(123)\n",
    "\n",
    "h2_y, h2_z = 0.5, 0.4\n",
    "r_yz=.5\n",
    "\n",
    "## our haplotypes\n",
    "haplotypes = xft.sim.DemoSimulation(n=8000,m=2000).haplotypes\n",
    "\n",
    "## divide genome into five equally sized components\n",
    "variant_set_indices = [np.sort(x) for x in np.array_split(np.random.permutation(haplotypes.xft.m), 5)]"
   ]
  },
  {
   "cell_type": "code",
   "execution_count": 32,
   "id": "467ad8bd-6f06-4001-8b5c-72df38ff0a1e",
   "metadata": {
    "execution": {
     "iopub.execute_input": "2023-04-21T19:21:42.910561Z",
     "iopub.status.busy": "2023-04-21T19:21:42.910305Z",
     "iopub.status.idle": "2023-04-21T19:21:42.916966Z",
     "shell.execute_reply": "2023-04-21T19:21:42.916241Z",
     "shell.execute_reply.started": "2023-04-21T19:21:42.910540Z"
    },
    "tags": []
   },
   "outputs": [],
   "source": [
    "## initialize effects matrix\n",
    "beta = np.zeros((haplotypes.xft.m, 2))\n",
    "\n",
    "##  1. variants causal for $Y$ but not $Z$ \n",
    "beta[variant_set_indices[0],0] = np.random.randn(len(variant_set_indices[0]))*np.sqrt(h2_y/3 / len(variant_set_indices[0]))\n",
    "##  2. variants causal for $Z$ but not $Y$\n",
    "beta[variant_set_indices[1],1] = np.random.randn(len(variant_set_indices[1]))*np.sqrt(h2_z/3 / len(variant_set_indices[1]))\n",
    "## 3. variants causal for $Y$ and $Z$ with orthogonal effects\n",
    "beta[variant_set_indices[2],0] = np.random.randn(len(variant_set_indices[2]))*np.sqrt(h2_y/3 / len(variant_set_indices[2]))\n",
    "beta[variant_set_indices[2],1] = np.random.randn(len(variant_set_indices[2]))*np.sqrt(h2_z/3 / len(variant_set_indices[2]))\n",
    "## 4. variants causal for $Y$ and $Z$ with correlated effects\n",
    "cov = np.array([[h2_y/3, r_yz*np.sqrt(h2_y*h2_z)/3],\n",
    "                [r_yz*np.sqrt(h2_y*h2_z)/3,h2_z/3]])/len(variant_set_indices[3])\n",
    "beta[variant_set_indices[3],:] = np.random.multivariate_normal(mean = np.zeros(2),\n",
    "                                                               cov = cov,\n",
    "                                                               size = len(variant_set_indices[3]))\n",
    "## 5. non-causal variants are already zero"
   ]
  },
  {
   "cell_type": "markdown",
   "id": "6c9e9687-f060-4314-8289-9ecb9494f548",
   "metadata": {},
   "source": [
    "We can verify that the effects are what we wanted:"
   ]
  },
  {
   "cell_type": "code",
   "execution_count": 33,
   "id": "c0898181-8f92-40e6-accc-b3fe5a9ab666",
   "metadata": {
    "execution": {
     "iopub.execute_input": "2023-04-21T19:21:42.918045Z",
     "iopub.status.busy": "2023-04-21T19:21:42.917796Z",
     "iopub.status.idle": "2023-04-21T19:21:43.156764Z",
     "shell.execute_reply": "2023-04-21T19:21:43.155958Z",
     "shell.execute_reply.started": "2023-04-21T19:21:42.918020Z"
    },
    "tags": []
   },
   "outputs": [
    {
     "name": "stdout",
     "output_type": "stream",
     "text": [
      "Total genetic covariance matrix:\n",
      "[[0.48985454 0.07025944]\n",
      " [0.07025944 0.40956994]]\n",
      "\n",
      "Set 0 genetic covariance matrix::\n",
      "[[0.18302386 0.        ]\n",
      " [0.         0.        ]]\n",
      "\n",
      "Set 1 genetic covariance matrix::\n",
      "[[0.         0.        ]\n",
      " [0.         0.13626868]]\n",
      "\n",
      "Set 2 genetic covariance matrix::\n",
      "[[ 0.14816598 -0.00023035]\n",
      " [-0.00023035  0.1418615 ]]\n",
      "\n",
      "Set 3 genetic covariance matrix::\n",
      "[[0.15523999 0.07082127]\n",
      " [0.07082127 0.12627384]]\n",
      "\n",
      "Set 4 genetic covariance matrix::\n",
      "[[0. 0.]\n",
      " [0. 0.]]\n"
     ]
    }
   ],
   "source": [
    "G_std = haplotypes.xft.to_diploid_standardized(af= haplotypes.af[::2], scale = False)\n",
    "print('Total genetic covariance matrix:')\n",
    "print(np.cov(G_std@beta, rowvar=False))\n",
    "for i,variant_set in enumerate(variant_set_indices):\n",
    "    print(f\"\\nSet {i} genetic covariance matrix::\")\n",
    "    print(np.cov(G_std[:,variant_set]@beta[variant_set,:], rowvar=False))\n"
   ]
  },
  {
   "cell_type": "markdown",
   "id": "5026cc7e-9e68-4b97-9b21-3275c1ae9748",
   "metadata": {},
   "source": [
    "Finally, we can construct the additive effects component:"
   ]
  },
  {
   "cell_type": "code",
   "execution_count": 34,
   "id": "8a210438-e6be-44c0-9083-2a930514150a",
   "metadata": {
    "execution": {
     "iopub.execute_input": "2023-04-21T19:21:43.159558Z",
     "iopub.status.busy": "2023-04-21T19:21:43.158941Z",
     "iopub.status.idle": "2023-04-21T19:21:43.187118Z",
     "shell.execute_reply": "2023-04-21T19:21:43.186271Z",
     "shell.execute_reply.started": "2023-04-21T19:21:43.159524Z"
    },
    "tags": []
   },
   "outputs": [],
   "source": [
    "add_effects_object = xft.effect.AdditiveEffects(scaled=False, standardized=True,\n",
    "                                                beta=beta,\n",
    "                                                variant_indexer=haplotypes.xft.get_variant_indexer(),\n",
    "                                                component_indexer=xft.index.ComponentIndex.from_product(['y','z'],\n",
    "                                                                                                        ['addGen']))\n",
    "\n",
    "add_comp = xft.arch.AdditiveGeneticComponent(beta=add_effects_object)"
   ]
  },
  {
   "cell_type": "markdown",
   "id": "0096b907-d871-45ad-acd5-2f5d372281a7",
   "metadata": {},
   "source": [
    "We can then construct the noise and sum transformations needed to complete the phenogenetic architecture:"
   ]
  },
  {
   "cell_type": "code",
   "execution_count": 35,
   "id": "c422aa2b-efe3-446c-a18d-1c4034d3836a",
   "metadata": {
    "execution": {
     "iopub.execute_input": "2023-04-21T19:21:43.189028Z",
     "iopub.status.busy": "2023-04-21T19:21:43.188465Z",
     "iopub.status.idle": "2023-04-21T19:21:43.272015Z",
     "shell.execute_reply": "2023-04-21T19:21:43.271431Z",
     "shell.execute_reply.started": "2023-04-21T19:21:43.188996Z"
    },
    "tags": []
   },
   "outputs": [],
   "source": [
    "noise_comp = xft.arch.AdditiveNoiseComponent(variances=[1-h2_y,1-h2_z],\n",
    "    component_index=xft.index.ComponentIndex.from_product(['y','z'],\n",
    "                                                          ['noise']))\n",
    "sum_trans = xft.arch.SumAllTransformation(xft.index.ComponentIndex.from_product(['y','z'],\n",
    "                                                                                ['addGen','noise']))\n",
    "arch = xft.arch.Architecture([add_comp,noise_comp,sum_trans])"
   ]
  },
  {
   "cell_type": "markdown",
   "id": "c24e2b87-cffd-4957-9ca3-78a6d80ea661",
   "metadata": {},
   "source": [
    "Finally, we run a simulation assuming linear assortative mating on $Y$ and $Z$ with an exchangeable cross-mate correlation structure with $r_\\text{mate}$ = 0.5:"
   ]
  },
  {
   "cell_type": "code",
   "execution_count": 36,
   "id": "1c17e2b2-7541-45d1-abec-b735ea19f8b6",
   "metadata": {
    "execution": {
     "iopub.execute_input": "2023-04-21T19:21:43.273009Z",
     "iopub.status.busy": "2023-04-21T19:21:43.272793Z",
     "iopub.status.idle": "2023-04-21T19:21:52.180525Z",
     "shell.execute_reply": "2023-04-21T19:21:52.179633Z",
     "shell.execute_reply.started": "2023-04-21T19:21:43.272985Z"
    },
    "tags": []
   },
   "outputs": [],
   "source": [
    "rmap = xft.reproduce.RecombinationMap.constant_map_from_haplotypes(haplotypes, p=.1)\n",
    "mate = xft.mate.LinearAssortativeMatingRegime(mates_per_female=2,\n",
    "                                              offspring_per_pair=1,\n",
    "                                              r=.5,\n",
    "    component_index=xft.index.ComponentIndex.from_product(['y','z'],\n",
    "                                                          ['phenotype']))\n",
    "sim = xft.sim.Simulation(founder_haplotypes=haplotypes,\n",
    "                         mating_regime=mate,\n",
    "                         recombination_map=rmap,\n",
    "                         architecture=arch,\n",
    "                         statistics=[xft.stats.SampleStatistics(),\n",
    "                                     xft.stats.MatingStatistics(),\n",
    "                                     xft.stats.HasemanElstonEstimator(randomized=True)])\n",
    "sim.run(5)"
   ]
  },
  {
   "cell_type": "markdown",
   "id": "8360cedf-6677-444c-9f48-636fefa78ad3",
   "metadata": {},
   "source": [
    "We can see inflation in HE regression correlation estimates increasing with each generation of cross-trait assortative mating:"
   ]
  },
  {
   "cell_type": "code",
   "execution_count": 41,
   "id": "e867a9da-366d-41d2-860f-c572b97ab500",
   "metadata": {
    "execution": {
     "iopub.execute_input": "2023-04-21T19:23:13.751611Z",
     "iopub.status.busy": "2023-04-21T19:23:13.751048Z",
     "iopub.status.idle": "2023-04-21T19:23:13.758983Z",
     "shell.execute_reply": "2023-04-21T19:23:13.758257Z",
     "shell.execute_reply.started": "2023-04-21T19:23:13.751591Z"
    },
    "tags": []
   },
   "outputs": [
    {
     "name": "stdout",
     "output_type": "stream",
     "text": [
      "sample_statistics: \n",
      "|__means: <class 'pandas.core.series.Series'>\n",
      "|__variances: <class 'pandas.core.series.Series'>\n",
      "|__variance_components: <class 'pandas.core.series.Series'>\n",
      "|__vcov: <class 'pandas.core.frame.DataFrame'>\n",
      "|__corr: <class 'pandas.core.frame.DataFrame'>\n",
      "mating_statistics: \n",
      "|__n_reproducing_pairs: <class 'numpy.int64'>\n",
      "|__n_total_offspring: <class 'numpy.int64'>\n",
      "|__mean_n_offspring_per_pair: <class 'numpy.float64'>\n",
      "|__mean_n_female_offspring_per_pair: <class 'numpy.float64'>\n",
      "|__mate_correlations: <class 'pandas.core.frame.DataFrame'>\n",
      "HE_regression: \n",
      "|__cov_HE: <class 'pandas.core.frame.DataFrame'>\n",
      "|__corr_HE: <class 'pandas.core.frame.DataFrame'>\n"
     ]
    },
    {
     "data": {
      "text/html": [
       "<div>\n",
       "<style scoped>\n",
       "    .dataframe tbody tr th:only-of-type {\n",
       "        vertical-align: middle;\n",
       "    }\n",
       "\n",
       "    .dataframe tbody tr th {\n",
       "        vertical-align: top;\n",
       "    }\n",
       "\n",
       "    .dataframe thead tr th {\n",
       "        text-align: left;\n",
       "    }\n",
       "\n",
       "    .dataframe thead tr:last-of-type th {\n",
       "        text-align: right;\n",
       "    }\n",
       "</style>\n",
       "<table border=\"1\" class=\"dataframe\">\n",
       "  <thead>\n",
       "    <tr>\n",
       "      <th></th>\n",
       "      <th></th>\n",
       "      <th>phenotype_name</th>\n",
       "      <th>y</th>\n",
       "      <th>z</th>\n",
       "    </tr>\n",
       "    <tr>\n",
       "      <th></th>\n",
       "      <th></th>\n",
       "      <th>component_name</th>\n",
       "      <th>phenotype</th>\n",
       "      <th>phenotype</th>\n",
       "    </tr>\n",
       "    <tr>\n",
       "      <th></th>\n",
       "      <th></th>\n",
       "      <th>vorigin_relative</th>\n",
       "      <th>proband</th>\n",
       "      <th>proband</th>\n",
       "    </tr>\n",
       "    <tr>\n",
       "      <th>phenotype_name</th>\n",
       "      <th>component_name</th>\n",
       "      <th>vorigin_relative</th>\n",
       "      <th></th>\n",
       "      <th></th>\n",
       "    </tr>\n",
       "  </thead>\n",
       "  <tbody>\n",
       "    <tr>\n",
       "      <th>y</th>\n",
       "      <th>phenotype</th>\n",
       "      <th>proband</th>\n",
       "      <td>0.852240</td>\n",
       "      <td>0.420716</td>\n",
       "    </tr>\n",
       "    <tr>\n",
       "      <th>z</th>\n",
       "      <th>phenotype</th>\n",
       "      <th>proband</th>\n",
       "      <td>0.420716</td>\n",
       "      <td>0.646176</td>\n",
       "    </tr>\n",
       "  </tbody>\n",
       "</table>\n",
       "</div>"
      ],
      "text/plain": [
       "phenotype_name                                         y         z\n",
       "component_name                                 phenotype phenotype\n",
       "vorigin_relative                                 proband   proband\n",
       "phenotype_name component_name vorigin_relative                    \n",
       "y              phenotype      proband           0.852240  0.420716\n",
       "z              phenotype      proband           0.420716  0.646176"
      ]
     },
     "execution_count": 41,
     "metadata": {},
     "output_type": "execute_result"
    }
   ],
   "source": [
    "xft.utils.print_tree(sim.results)\n",
    "sim.results['HE_regression']['cov_HE']"
   ]
  },
  {
   "cell_type": "code",
   "execution_count": 42,
   "id": "69529e67-425f-4f54-ac41-5b5bba572a60",
   "metadata": {
    "execution": {
     "iopub.execute_input": "2023-04-21T19:23:16.326441Z",
     "iopub.status.busy": "2023-04-21T19:23:16.325932Z",
     "iopub.status.idle": "2023-04-21T19:23:16.526751Z",
     "shell.execute_reply": "2023-04-21T19:23:16.526177Z",
     "shell.execute_reply.started": "2023-04-21T19:23:16.326392Z"
    },
    "tags": []
   },
   "outputs": [
    {
     "data": {
      "text/plain": [
       "<Axes: xlabel='generation', ylabel='genetic correlation measure'>"
      ]
     },
     "execution_count": 42,
     "metadata": {},
     "output_type": "execute_result"
    },
    {
     "data": {
      "image/png": "[encoded data removed]",
      "text/plain": [
       "<Figure size 432x288 with 1 Axes>"
      ]
     },
     "metadata": {
      "needs_background": "light"
     },
     "output_type": "display_data"
    }
   ],
   "source": [
    "import seaborn as sns\n",
    "import pandas as pd\n",
    "\n",
    "results = pd.DataFrame.from_records([{'generation':key, \n",
    "  'rho_beta_HE':value['HE_regression']['corr_HE'].iloc[1,0],\n",
    "  'rho_score_true':value['sample_statistics']['vcov'].iloc[1,0],\n",
    "  'rho_beta_true':sim.architecture.components[0].true_rho_beta[1,0]} for key,value in sim.results_store.items()]\n",
    "                         )\n",
    "\n",
    "pdat = pd.melt(results, id_vars='generation', var_name='quantity',\n",
    "               value_name='genetic correlation measure')\n",
    "sns.lineplot(data=pdat, \n",
    "           x='generation',\n",
    "           y='genetic correlation measure',\n",
    "           hue='quantity',)\n",
    "sns.scatterplot(data=pdat, \n",
    "           x='generation',\n",
    "           y='genetic correlation measure',\n",
    "           hue='quantity',legend=False)"
   ]
  }
 ],
 "metadata": {
  "kernelspec": {
   "display_name": "Python 3 (ipykernel)",
   "language": "python",
   "name": "python3"
  },
  "language_info": {
   "codemirror_mode": {
    "name": "ipython",
    "version": 3
   },
   "file_extension": ".py",
   "mimetype": "text/x-python",
   "name": "python",
   "nbconvert_exporter": "python",
   "pygments_lexer": "ipython3",
   "version": "3.9.15"
  }
 },
 "nbformat": 4,
 "nbformat_minor": 5
}
