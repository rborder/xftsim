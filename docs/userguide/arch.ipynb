{
 "cells": [
  {
   "cell_type": "markdown",
   "id": "73b43676-3f61-472d-b97b-d5d14e6b1f6f",
   "metadata": {
    "execution": {
     "iopub.execute_input": "2023-04-13T22:31:16.979787Z",
     "iopub.status.busy": "2023-04-13T22:31:16.978999Z",
     "iopub.status.idle": "2023-04-13T22:31:16.991202Z",
     "shell.execute_reply": "2023-04-13T22:31:16.988195Z",
     "shell.execute_reply.started": "2023-04-13T22:31:16.979708Z"
    },
    "tags": []
   },
   "source": [
    "# Phenogenetic architectures\n",
    "\n",
    "## Overview\n",
    "\n",
    "Here's where things start to get interesting. The ability to easily construct and modify phenogenetic architectures with arbitrary complexity was the core motivating feature underlying the development of `xftsim`. In what follows, we introduce the `ArchitectureComponent` and `Architecture` classes that make this possible.\n",
    "\n",
    "\n",
    ":::{warning}\n",
    "\n",
    "We highly suggest you be familiar with the `xftsim` indexers and data structures introduce [here](./indexing.ipynb) and [here](./struct.ipynb), respectively.\n",
    "\n",
    ":::\n",
    "\n",
    "## `ArchitectureComponent` objects \n",
    "\n",
    "An `Architecture` object largely consists of an iterable collection of `ArchitectureComponents`. These component objects take haplotype and phenotype data as inputs and modify phenotypes by reference. For example, the widely used additive genetic architecture\n",
    "\n",
    "$$y=X\\beta + e,$$\n",
    "$$e \\sim N(0, \\sigma^2_e),$$\n",
    "$$\\beta \\stackrel{iid}{\\sim}N_m(0,\\sigma^2_\\beta),$$\n",
    "\n",
    "is represented in `xftsim` as a collection of three components: the additive genetic component $X\\beta$, the additive noise component $e$, and the sum transformation $y = X\\beta + e$.\n"
   ]
  },
  {
   "cell_type": "code",
   "execution_count": 1,
   "id": "e8ba577e-72d4-4d29-a071-47e7bb449b3e",
   "metadata": {
    "execution": {
     "iopub.execute_input": "2023-04-13T23:50:42.092565Z",
     "iopub.status.busy": "2023-04-13T23:50:42.091845Z",
     "iopub.status.idle": "2023-04-13T23:50:45.539679Z",
     "shell.execute_reply": "2023-04-13T23:50:45.539146Z",
     "shell.execute_reply.started": "2023-04-13T23:50:42.092493Z"
    },
    "tags": []
   },
   "outputs": [
    {
     "data": {
      "text/plain": [
       "<DemoSimulation>\n",
       "Univariate GCTA with balanced random mating demo\n",
       "\n",
       "n = 2000; m = 400\n",
       "A single phenotype, height, assuming univariate GCTA\n",
       "infinitessimal archtecture with h2 = 0.5."
      ]
     },
     "execution_count": 1,
     "metadata": {},
     "output_type": "execute_result"
    }
   ],
   "source": [
    "import xftsim as xft\n",
    "\n",
    "demo = xft.sim.DemoSimulation(\"UGRM\")\n",
    "demo"
   ]
  },
  {
   "cell_type": "markdown",
   "id": "27f5ddc9-6979-492c-9a24-14fa922007ea",
   "metadata": {},
   "source": [
    "This architecture consists of three components:"
   ]
  },
  {
   "cell_type": "code",
   "execution_count": 2,
   "id": "4666b528-974f-4963-888b-5f07e05f89dd",
   "metadata": {
    "execution": {
     "iopub.execute_input": "2023-04-13T23:50:45.540543Z",
     "iopub.status.busy": "2023-04-13T23:50:45.540349Z",
     "iopub.status.idle": "2023-04-13T23:50:45.544651Z",
     "shell.execute_reply": "2023-04-13T23:50:45.544043Z",
     "shell.execute_reply.started": "2023-04-13T23:50:45.540526Z"
    },
    "tags": []
   },
   "outputs": [
    {
     "data": {
      "text/plain": [
       "3"
      ]
     },
     "execution_count": 2,
     "metadata": {},
     "output_type": "execute_result"
    }
   ],
   "source": [
    "len(demo.architecture.components)"
   ]
  },
  {
   "cell_type": "markdown",
   "id": "b4f71e35-afef-412a-9b11-2bc4cd3af29a",
   "metadata": {},
   "source": [
    "The genetic component uses haplotype information (but not phenotype information) as inputs and generates the `additiveGenetic` phenotype component as its output:"
   ]
  },
  {
   "cell_type": "code",
   "execution_count": 3,
   "id": "505d2058-7092-4fef-b514-ffd042c5f2ba",
   "metadata": {
    "execution": {
     "iopub.execute_input": "2023-04-13T23:50:45.545697Z",
     "iopub.status.busy": "2023-04-13T23:50:45.545427Z",
     "iopub.status.idle": "2023-04-13T23:50:45.554119Z",
     "shell.execute_reply": "2023-04-13T23:50:45.553630Z",
     "shell.execute_reply.started": "2023-04-13T23:50:45.545669Z"
    },
    "tags": []
   },
   "outputs": [
    {
     "data": {
      "text/plain": [
       "<class 'xftsim.arch.AdditiveGeneticComponent'>\n",
       "\n",
       "## INPUTS:\n",
       " - haplotypes: True\n",
       " - phenotype components:\n",
       "<Empty ComponentIndex>\n",
       "\n",
       "## OUTPUTS:\n",
       " - phenotype components:\n",
       "<ComponentIndex>\n",
       "  1 component of 1 phenotype spanning 1 generation\n",
       "                               phenotype_name   component_name  \\\n",
       "component                                                        \n",
       "height.additiveGenetic.proband         height  additiveGenetic   \n",
       "\n",
       "                                vorigin_relative  \n",
       "component                                         \n",
       "height.additiveGenetic.proband                -1  "
      ]
     },
     "execution_count": 3,
     "metadata": {},
     "output_type": "execute_result"
    }
   ],
   "source": [
    "demo.architecture.components[0]"
   ]
  },
  {
   "cell_type": "markdown",
   "id": "564b6901-37ca-46b1-9a02-0ab4f97a59d4",
   "metadata": {},
   "source": [
    "The noise component, on the other hand, doesn't use haplotype information or phenotype information as inputs and generates the `additiveNoise` phenotype component as its output:"
   ]
  },
  {
   "cell_type": "code",
   "execution_count": 4,
   "id": "5e4c4e42-0852-4cea-8a70-a428d20e2fcc",
   "metadata": {
    "execution": {
     "iopub.execute_input": "2023-04-13T23:50:45.555854Z",
     "iopub.status.busy": "2023-04-13T23:50:45.555603Z",
     "iopub.status.idle": "2023-04-13T23:50:45.561202Z",
     "shell.execute_reply": "2023-04-13T23:50:45.560479Z",
     "shell.execute_reply.started": "2023-04-13T23:50:45.555830Z"
    },
    "tags": []
   },
   "outputs": [
    {
     "data": {
      "text/plain": [
       "<class 'xftsim.arch.AdditiveNoiseComponent'>\n",
       "\n",
       "## INPUTS:\n",
       " - haplotypes: False\n",
       " - phenotype components:\n",
       "<Empty ComponentIndex>\n",
       "\n",
       "## OUTPUTS:\n",
       " - phenotype components:\n",
       "<ComponentIndex>\n",
       "  1 component of 1 phenotype spanning 1 generation\n",
       "                             phenotype_name component_name  vorigin_relative\n",
       "component                                                                   \n",
       "height.additiveNoise.proband         height  additiveNoise                -1"
      ]
     },
     "execution_count": 4,
     "metadata": {},
     "output_type": "execute_result"
    }
   ],
   "source": [
    "demo.architecture.components[1]"
   ]
  },
  {
   "cell_type": "markdown",
   "id": "63d24b7a-9944-4afe-bd9a-5c2eed17994d",
   "metadata": {},
   "source": [
    "Finally, the sum component ignores haplotype data but uses both the `additiveGenetic` and `additiveNoise` components to compute the `phenotype` component:"
   ]
  },
  {
   "cell_type": "code",
   "execution_count": 5,
   "id": "c2920bc6-e2d3-440b-8eb4-91f246ffba49",
   "metadata": {
    "execution": {
     "iopub.execute_input": "2023-04-13T23:50:45.562462Z",
     "iopub.status.busy": "2023-04-13T23:50:45.562071Z",
     "iopub.status.idle": "2023-04-13T23:50:45.568246Z",
     "shell.execute_reply": "2023-04-13T23:50:45.567805Z",
     "shell.execute_reply.started": "2023-04-13T23:50:45.562438Z"
    },
    "tags": []
   },
   "outputs": [
    {
     "data": {
      "text/plain": [
       "<class 'xftsim.arch.SumTransformation'>\n",
       "\n",
       "## INPUTS:\n",
       " - haplotypes: False\n",
       " - phenotype components:\n",
       "<ComponentIndex>\n",
       "  2 components of 1 phenotype spanning 1 generation\n",
       "                               phenotype_name   component_name  \\\n",
       "component                                                        \n",
       "height.additiveGenetic.proband         height  additiveGenetic   \n",
       "height.additiveNoise.proband           height    additiveNoise   \n",
       "\n",
       "                                vorigin_relative  \n",
       "component                                         \n",
       "height.additiveGenetic.proband                -1  \n",
       "height.additiveNoise.proband                  -1  \n",
       "\n",
       "## OUTPUTS:\n",
       " - phenotype components:\n",
       "<ComponentIndex>\n",
       "  1 component of 1 phenotype spanning 1 generation\n",
       "                         phenotype_name component_name  vorigin_relative\n",
       "component                                                               \n",
       "height.phenotype.proband         height      phenotype                -1"
      ]
     },
     "execution_count": 5,
     "metadata": {},
     "output_type": "execute_result"
    }
   ],
   "source": [
    "demo.architecture.components[2]"
   ]
  },
  {
   "cell_type": "markdown",
   "id": "501dbf19-64b1-4e25-a24c-e3363990555b",
   "metadata": {
    "execution": {
     "iopub.execute_input": "2023-04-13T23:50:45.651716Z",
     "iopub.status.busy": "2023-04-13T23:50:45.651504Z",
     "iopub.status.idle": "2023-04-13T23:50:45.654874Z",
     "shell.execute_reply": "2023-04-13T23:50:45.654226Z",
     "shell.execute_reply.started": "2023-04-13T23:50:45.651697Z"
    },
    "tags": []
   },
   "source": [
    "We will go through some commonly used `ArchitectureComponent`s in what follows.\n",
    "\n",
    "### Additive genetic components\n",
    "\n",
    "To specify an 'arch.AdditiveGeneticComponent', we need to first create an `effect.AdditiveEffects` object. Additive effects relating $m$ diploid variants to $k$ phenotypic components are comprised of an $m\\times k$ matrix of effects, an `xft "
   ]
  },
  {
   "cell_type": "code",
   "execution_count": 5,
   "id": "88ec9a6a-c730-467c-81f7-54e17f626c72",
   "metadata": {
    "execution": {
     "iopub.execute_input": "2023-04-13T23:42:38.425361Z",
     "iopub.status.busy": "2023-04-13T23:42:38.425089Z",
     "iopub.status.idle": "2023-04-13T23:42:38.465836Z",
     "shell.execute_reply": "2023-04-13T23:42:38.465209Z",
     "shell.execute_reply.started": "2023-04-13T23:42:38.425334Z"
    },
    "tags": []
   },
   "outputs": [
    {
     "data": {
      "text/plain": [
       "\u001b[0;31mInit signature:\u001b[0m\n",
       "\u001b[0mxft\u001b[0m\u001b[0;34m.\u001b[0m\u001b[0march\u001b[0m\u001b[0;34m.\u001b[0m\u001b[0mArchitectureComponent\u001b[0m\u001b[0;34m(\u001b[0m\u001b[0;34m\u001b[0m\n",
       "\u001b[0;34m\u001b[0m    \u001b[0mcompute_component\u001b[0m\u001b[0;34m:\u001b[0m \u001b[0mCallable\u001b[0m \u001b[0;34m=\u001b[0m \u001b[0;32mNone\u001b[0m\u001b[0;34m,\u001b[0m\u001b[0;34m\u001b[0m\n",
       "\u001b[0;34m\u001b[0m    \u001b[0minput_cindex\u001b[0m\u001b[0;34m:\u001b[0m \u001b[0mxftsim\u001b[0m\u001b[0;34m.\u001b[0m\u001b[0mindex\u001b[0m\u001b[0;34m.\u001b[0m\u001b[0mComponentIndex\u001b[0m \u001b[0;34m=\u001b[0m \u001b[0;32mNone\u001b[0m\u001b[0;34m,\u001b[0m\u001b[0;34m\u001b[0m\n",
       "\u001b[0;34m\u001b[0m    \u001b[0moutput_cindex\u001b[0m\u001b[0;34m:\u001b[0m \u001b[0mxftsim\u001b[0m\u001b[0;34m.\u001b[0m\u001b[0mindex\u001b[0m\u001b[0;34m.\u001b[0m\u001b[0mComponentIndex\u001b[0m \u001b[0;34m=\u001b[0m \u001b[0;32mNone\u001b[0m\u001b[0;34m,\u001b[0m\u001b[0;34m\u001b[0m\n",
       "\u001b[0;34m\u001b[0m    \u001b[0minput_haplotypes\u001b[0m\u001b[0;34m:\u001b[0m \u001b[0mUnion\u001b[0m\u001b[0;34m[\u001b[0m\u001b[0mnumpy\u001b[0m\u001b[0;34m.\u001b[0m\u001b[0mbool_\u001b[0m\u001b[0;34m,\u001b[0m \u001b[0mxftsim\u001b[0m\u001b[0;34m.\u001b[0m\u001b[0mindex\u001b[0m\u001b[0;34m.\u001b[0m\u001b[0mHaploidVariantIndex\u001b[0m\u001b[0;34m]\u001b[0m \u001b[0;34m=\u001b[0m \u001b[0;32mFalse\u001b[0m\u001b[0;34m,\u001b[0m\u001b[0;34m\u001b[0m\n",
       "\u001b[0;34m\u001b[0m    \u001b[0mfounder_initialization\u001b[0m\u001b[0;34m:\u001b[0m \u001b[0mCallable\u001b[0m \u001b[0;34m=\u001b[0m \u001b[0;32mNone\u001b[0m\u001b[0;34m,\u001b[0m\u001b[0;34m\u001b[0m\n",
       "\u001b[0;34m\u001b[0m\u001b[0;34m)\u001b[0m\u001b[0;34m\u001b[0m\u001b[0;34m\u001b[0m\u001b[0m\n",
       "\u001b[0;31mDocstring:\u001b[0m     \n",
       "Class representing a component of a genetic architecture.\n",
       "\n",
       "Parameters\n",
       "----------\n",
       "compute_component : Callable, optional\n",
       "    Function that accesses haplotypes and/or phenotypes and modifies phenotypes by reference, by default None.\n",
       "input_cindex : xft.index.ComponentIndex, optional\n",
       "    Index of the input component, by default None.\n",
       "output_cindex : xft.index.ComponentIndex, optional\n",
       "    Index of the output component, by default None.\n",
       "input_haplotypes : bool or xft.index.HaploidVariantIndex, optional\n",
       "    Boolean or HaploidVariantIndex indicating if input haplotypes are used, by default False.\n",
       "founder_initialization : Callable, optional\n",
       "    Function that initializes founder haplotypes for the component, by default None.\n",
       "\n",
       "Attributes\n",
       "----------\n",
       "_compute_component : Callable or None\n",
       "    Function that accesses haplotypes and/or phenotypes and modifies phenotypes by reference.\n",
       "input_haplotypes : bool or xft.index.HaploidVariantIndex\n",
       "    Boolean or HaploidVariantIndex indicating if input haplotypes are used.\n",
       "input_cindex : xft.index.ComponentIndex\n",
       "    Index of the input component.\n",
       "output_cindex : xft.index.ComponentIndex\n",
       "    Index of the output component.\n",
       "founder_initialization : Callable or None\n",
       "    Function that initializes founder haplotypes for the component.\n",
       "\u001b[0;31mFile:\u001b[0m           ~/Dropbox/ftsim/xftsim/xftsim/arch.py\n",
       "\u001b[0;31mType:\u001b[0m           type\n",
       "\u001b[0;31mSubclasses:\u001b[0m     PlaceholderComponent, AdditiveGeneticComponent, AdditiveNoiseComponent, LinearTransformationComponent, SumTransformation, BinarizingTransformation\n"
      ]
     },
     "metadata": {},
     "output_type": "display_data"
    }
   ],
   "source": [
    "?xft.arch.ArchitectureComponent"
   ]
  },
  {
   "cell_type": "code",
   "execution_count": null,
   "id": "679a35c3-d219-4a0b-a987-c3fd5dca03d6",
   "metadata": {},
   "outputs": [],
   "source": [
    "In"
   ]
  },
  {
   "cell_type": "code",
   "execution_count": 6,
   "id": "1fd1efdf-fa18-410a-9942-18e9afa7677a",
   "metadata": {
    "execution": {
     "iopub.execute_input": "2023-04-13T23:42:38.466728Z",
     "iopub.status.busy": "2023-04-13T23:42:38.466497Z",
     "iopub.status.idle": "2023-04-13T23:42:38.470331Z",
     "shell.execute_reply": "2023-04-13T23:42:38.469781Z",
     "shell.execute_reply.started": "2023-04-13T23:42:38.466705Z"
    },
    "tags": []
   },
   "outputs": [
    {
     "name": "stdout",
     "output_type": "stream",
     "text": [
      "Object `arch.Architecture` not found.\n"
     ]
    }
   ],
   "source": [
    "?arch.Architecture"
   ]
  }
 ],
 "metadata": {
  "kernelspec": {
   "display_name": "Python 3 (ipykernel)",
   "language": "python",
   "name": "python3"
  },
  "language_info": {
   "codemirror_mode": {
    "name": "ipython",
    "version": 3
   },
   "file_extension": ".py",
   "mimetype": "text/x-python",
   "name": "python",
   "nbconvert_exporter": "python",
   "pygments_lexer": "ipython3",
   "version": "3.9.15"
  }
 },
 "nbformat": 4,
 "nbformat_minor": 5
}
