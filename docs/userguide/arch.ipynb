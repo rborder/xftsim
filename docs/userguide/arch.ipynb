{
 "cells": [
  {
   "cell_type": "markdown",
   "id": "73b43676-3f61-472d-b97b-d5d14e6b1f6f",
   "metadata": {
    "execution": {
     "iopub.execute_input": "2023-04-13T22:31:16.979787Z",
     "iopub.status.busy": "2023-04-13T22:31:16.978999Z",
     "iopub.status.idle": "2023-04-13T22:31:16.991202Z",
     "shell.execute_reply": "2023-04-13T22:31:16.988195Z",
     "shell.execute_reply.started": "2023-04-13T22:31:16.979708Z"
    },
    "tags": []
   },
   "source": [
    "# Phenogenetic architectures\n",
    "\n",
    "## Overview\n",
    "\n",
    "Here's where things start to get interesting. The ability to easily construct and modify phenogenetic architectures with arbitrary complexity was the core motivating feature underlying the development of `xftsim`. In what follows, we introduce the `ArchitectureComponent` and `Architecture` classes that make this possible.\n",
    "\n",
    "\n",
    ":::{warning}\n",
    "\n",
    "We highly suggest you be familiar with the `xftsim` indexers and data structures introduce [here](./indexing.ipynb) and [here](./struct.ipynb), respectively.\n",
    "\n",
    ":::\n",
    "\n",
    "## ArchitectureComponent objects \n",
    "\n",
    "An `Architecture` object largely consists of an iterable collection of `ArchitectureComponents`. These component objects take haplotype and phenotype data as inputs and modify phenotypes by reference. For example, the widely used additive genetic architecture\n",
    "\n",
    "$$y=X\\beta + e,$$\n",
    "$$e \\sim N(0, \\sigma^2_e),$$\n",
    "$$\\beta \\stackrel{iid}{\\sim}N_m(0,\\sigma^2_\\beta),$$\n",
    "\n",
    "is represented in `xftsim` as a collection of three components: the additive genetic component $X\\beta$, the additive noise component $e$, and the sum transformation $y = X\\beta + e$.\n"
   ]
  },
  {
   "cell_type": "code",
   "execution_count": 20,
   "id": "e8ba577e-72d4-4d29-a071-47e7bb449b3e",
   "metadata": {
    "execution": {
     "iopub.execute_input": "2023-04-14T00:55:19.444205Z",
     "iopub.status.busy": "2023-04-14T00:55:19.443807Z",
     "iopub.status.idle": "2023-04-14T00:55:19.990286Z",
     "shell.execute_reply": "2023-04-14T00:55:19.989648Z",
     "shell.execute_reply.started": "2023-04-14T00:55:19.444173Z"
    },
    "tags": []
   },
   "outputs": [
    {
     "data": {
      "text/plain": [
       "<DemoSimulation>\n",
       "Bivariate GCTA with balanced random mating demo\n",
       "\n",
       "n = 2000; m = 400\n",
       "Two phenotypes, height and bone mineral denisty (BMD)\n",
       "assuming bivariate GCTA infinitessimal archtecture\n",
       "with h2 values set to 0.5 and 0.4 for height and BMD\n",
       "respectively and a genetic effect correlation of 0.0."
      ]
     },
     "execution_count": 20,
     "metadata": {},
     "output_type": "execute_result"
    }
   ],
   "source": [
    "import xftsim as xft\n",
    "\n",
    "demo = xft.sim.DemoSimulation(\"BGRM\")\n",
    "demo"
   ]
  },
  {
   "cell_type": "markdown",
   "id": "27f5ddc9-6979-492c-9a24-14fa922007ea",
   "metadata": {},
   "source": [
    "This architecture consists of three components:"
   ]
  },
  {
   "cell_type": "code",
   "execution_count": 21,
   "id": "4666b528-974f-4963-888b-5f07e05f89dd",
   "metadata": {
    "execution": {
     "iopub.execute_input": "2023-04-14T00:55:19.991276Z",
     "iopub.status.busy": "2023-04-14T00:55:19.991078Z",
     "iopub.status.idle": "2023-04-14T00:55:19.995155Z",
     "shell.execute_reply": "2023-04-14T00:55:19.994481Z",
     "shell.execute_reply.started": "2023-04-14T00:55:19.991259Z"
    },
    "tags": []
   },
   "outputs": [
    {
     "data": {
      "text/plain": [
       "3"
      ]
     },
     "execution_count": 21,
     "metadata": {},
     "output_type": "execute_result"
    }
   ],
   "source": [
    "len(demo.architecture.components)"
   ]
  },
  {
   "cell_type": "markdown",
   "id": "b4f71e35-afef-412a-9b11-2bc4cd3af29a",
   "metadata": {},
   "source": [
    "The genetic component uses haplotype information (but not phenotype information) as inputs and generates the `additiveGenetic` phenotype component as its output:"
   ]
  },
  {
   "cell_type": "code",
   "execution_count": 22,
   "id": "505d2058-7092-4fef-b514-ffd042c5f2ba",
   "metadata": {
    "execution": {
     "iopub.execute_input": "2023-04-14T00:55:20.075510Z",
     "iopub.status.busy": "2023-04-14T00:55:20.075107Z",
     "iopub.status.idle": "2023-04-14T00:55:20.085278Z",
     "shell.execute_reply": "2023-04-14T00:55:20.084354Z",
     "shell.execute_reply.started": "2023-04-14T00:55:20.075473Z"
    },
    "tags": []
   },
   "outputs": [
    {
     "data": {
      "text/plain": [
       "<class 'xftsim.arch.AdditiveGeneticComponent'>\n",
       "\n",
       "## INPUTS:\n",
       " - haplotypes: True\n",
       " - phenotype components:\n",
       "<Empty ComponentIndex>\n",
       "\n",
       "## OUTPUTS:\n",
       " - phenotype components:\n",
       "<ComponentIndex>\n",
       "  1 component of 2 phenotypes spanning 1 generation\n",
       "                               phenotype_name   component_name  \\\n",
       "component                                                        \n",
       "height.additiveGenetic.proband         height  additiveGenetic   \n",
       "BMD.additiveGenetic.proband               BMD  additiveGenetic   \n",
       "\n",
       "                                vorigin_relative  \n",
       "component                                         \n",
       "height.additiveGenetic.proband                -1  \n",
       "BMD.additiveGenetic.proband                   -1  "
      ]
     },
     "execution_count": 22,
     "metadata": {},
     "output_type": "execute_result"
    }
   ],
   "source": [
    "demo.architecture.components[0]"
   ]
  },
  {
   "cell_type": "markdown",
   "id": "564b6901-37ca-46b1-9a02-0ab4f97a59d4",
   "metadata": {},
   "source": [
    "The noise component, on the other hand, doesn't use haplotype information or phenotype information as inputs and generates the `additiveNoise` phenotype component as its output:"
   ]
  },
  {
   "cell_type": "code",
   "execution_count": 23,
   "id": "5e4c4e42-0852-4cea-8a70-a428d20e2fcc",
   "metadata": {
    "execution": {
     "iopub.execute_input": "2023-04-14T00:55:20.390846Z",
     "iopub.status.busy": "2023-04-14T00:55:20.390045Z",
     "iopub.status.idle": "2023-04-14T00:55:20.404530Z",
     "shell.execute_reply": "2023-04-14T00:55:20.403224Z",
     "shell.execute_reply.started": "2023-04-14T00:55:20.390770Z"
    },
    "tags": []
   },
   "outputs": [
    {
     "data": {
      "text/plain": [
       "<class 'xftsim.arch.AdditiveNoiseComponent'>\n",
       "\n",
       "## INPUTS:\n",
       " - haplotypes: False\n",
       " - phenotype components:\n",
       "<Empty ComponentIndex>\n",
       "\n",
       "## OUTPUTS:\n",
       " - phenotype components:\n",
       "<ComponentIndex>\n",
       "  1 component of 2 phenotypes spanning 1 generation\n",
       "                             phenotype_name component_name  vorigin_relative\n",
       "component                                                                   \n",
       "height.additiveNoise.proband         height  additiveNoise                -1\n",
       "BMD.additiveNoise.proband               BMD  additiveNoise                -1"
      ]
     },
     "execution_count": 23,
     "metadata": {},
     "output_type": "execute_result"
    }
   ],
   "source": [
    "demo.architecture.components[1]"
   ]
  },
  {
   "cell_type": "markdown",
   "id": "63d24b7a-9944-4afe-bd9a-5c2eed17994d",
   "metadata": {},
   "source": [
    "Finally, the sum component ignores haplotype data but uses both the `additiveGenetic` and `additiveNoise` components to compute the `phenotype` component:"
   ]
  },
  {
   "cell_type": "code",
   "execution_count": 24,
   "id": "c2920bc6-e2d3-440b-8eb4-91f246ffba49",
   "metadata": {
    "execution": {
     "iopub.execute_input": "2023-04-14T00:55:20.691552Z",
     "iopub.status.busy": "2023-04-14T00:55:20.689323Z",
     "iopub.status.idle": "2023-04-14T00:55:20.711415Z",
     "shell.execute_reply": "2023-04-14T00:55:20.710156Z",
     "shell.execute_reply.started": "2023-04-14T00:55:20.691465Z"
    },
    "tags": []
   },
   "outputs": [
    {
     "data": {
      "text/plain": [
       "<class 'xftsim.arch.SumTransformation'>\n",
       "\n",
       "## INPUTS:\n",
       " - haplotypes: False\n",
       " - phenotype components:\n",
       "<ComponentIndex>\n",
       "  2 components of 2 phenotypes spanning 1 generation\n",
       "                               phenotype_name   component_name  \\\n",
       "component                                                        \n",
       "height.additiveGenetic.proband         height  additiveGenetic   \n",
       "height.additiveNoise.proband           height    additiveNoise   \n",
       "BMD.additiveGenetic.proband               BMD  additiveGenetic   \n",
       "BMD.additiveNoise.proband                 BMD    additiveNoise   \n",
       "\n",
       "                                vorigin_relative  \n",
       "component                                         \n",
       "height.additiveGenetic.proband                -1  \n",
       "height.additiveNoise.proband                  -1  \n",
       "BMD.additiveGenetic.proband                   -1  \n",
       "BMD.additiveNoise.proband                     -1  \n",
       "\n",
       "## OUTPUTS:\n",
       " - phenotype components:\n",
       "<ComponentIndex>\n",
       "  1 component of 2 phenotypes spanning 1 generation\n",
       "                         phenotype_name component_name  vorigin_relative\n",
       "component                                                               \n",
       "height.phenotype.proband         height      phenotype                -1\n",
       "BMD.phenotype.proband               BMD      phenotype                -1"
      ]
     },
     "execution_count": 24,
     "metadata": {},
     "output_type": "execute_result"
    }
   ],
   "source": [
    "demo.architecture.components[2]"
   ]
  },
  {
   "cell_type": "markdown",
   "id": "501dbf19-64b1-4e25-a24c-e3363990555b",
   "metadata": {
    "execution": {
     "iopub.execute_input": "2023-04-13T23:50:45.651716Z",
     "iopub.status.busy": "2023-04-13T23:50:45.651504Z",
     "iopub.status.idle": "2023-04-13T23:50:45.654874Z",
     "shell.execute_reply": "2023-04-13T23:50:45.654226Z",
     "shell.execute_reply.started": "2023-04-13T23:50:45.651697Z"
    },
    "tags": []
   },
   "source": [
    "We will go through some commonly used `ArchitectureComponent`s in what follows.\n",
    "\n",
    "## Additive genetic components\n",
    "\n",
    "To specify an 'arch.AdditiveGeneticComponent', we need to first create an `effect.AdditiveEffects` object. Additive effects relating $m$ diploid variants to $k$ phenotypic components are comprised of an $m\\times k$ matrix of effects, an index of the $m$ variants (can be `xft.index.HaploidVariantIndex` or `xft.index.DiploidVariantIndex`), and an index of the $k$ components in the form of an `xft.index.ComponentIndex`. \n",
    "\n",
    "For example, we can create effects under the additive model specified above as follows:"
   ]
  },
  {
   "cell_type": "code",
   "execution_count": 25,
   "id": "88ec9a6a-c730-467c-81f7-54e17f626c72",
   "metadata": {
    "execution": {
     "iopub.execute_input": "2023-04-14T00:55:20.995753Z",
     "iopub.status.busy": "2023-04-14T00:55:20.993931Z",
     "iopub.status.idle": "2023-04-14T00:55:21.022560Z",
     "shell.execute_reply": "2023-04-14T00:55:21.021539Z",
     "shell.execute_reply.started": "2023-04-14T00:55:20.995640Z"
    },
    "tags": []
   },
   "outputs": [],
   "source": [
    "import numpy as np\n",
    "\n",
    "beta = np.random.randn(demo.haplotypes.xft.m, 1) * np.sqrt(.5)\n",
    "vindex = demo.haplotypes.xft.get_variant_indexer()\n",
    "cindex = xft.index.ComponentIndex.from_product('height', 'additiveGenetic')\n",
    "\n",
    "effects = xft.effect.AdditiveEffects(beta=beta, \n",
    "                                     variant_indexer=vindex,\n",
    "                                     component_indexer=cindex)"
   ]
  },
  {
   "cell_type": "markdown",
   "id": "df6a3d57-56c1-4e90-b33c-c1cc6af3762a",
   "metadata": {},
   "source": [
    "Alternatively, we could construct additive components for two phenotypes, height and bone mineral density (BMD), with genetic variances 0.5 and 0.4, respectively, and genetic effect correlation 0.25 as follows: "
   ]
  },
  {
   "cell_type": "code",
   "execution_count": 26,
   "id": "df35c8be-e54f-4742-9380-1c926a4bb343",
   "metadata": {
    "execution": {
     "iopub.execute_input": "2023-04-14T00:55:21.325849Z",
     "iopub.status.busy": "2023-04-14T00:55:21.323785Z",
     "iopub.status.idle": "2023-04-14T00:55:21.350829Z",
     "shell.execute_reply": "2023-04-14T00:55:21.349881Z",
     "shell.execute_reply.started": "2023-04-14T00:55:21.325715Z"
    },
    "tags": []
   },
   "outputs": [],
   "source": [
    "m = demo.haplotypes.xft.m\n",
    "vcov = np.array([[.5, .25*np.sqrt(.5*.4)],\n",
    "                 [.25*np.sqrt(.5*.4), .4]])\n",
    "\n",
    "\n",
    "beta = np.random.multivariate_normal(mean = np.zeros(2),\n",
    "                                     cov = vcov, size = m)\n",
    "vindex = demo.haplotypes.xft.get_variant_indexer()\n",
    "cindex = xft.index.ComponentIndex.from_product(('height','BMD'), 'additiveGenetic')\n",
    "\n",
    "effects = xft.effect.AdditiveEffects(beta=beta, \n",
    "                                     variant_indexer=vindex,\n",
    "                                     component_indexer=cindex)"
   ]
  },
  {
   "cell_type": "markdown",
   "id": "b5e1697a-8659-4b38-8052-60ce121eb8a5",
   "metadata": {
    "tags": []
   },
   "source": [
    "We can confirm that these effects behave as expected if desired:"
   ]
  },
  {
   "cell_type": "code",
   "execution_count": 27,
   "id": "4350cd73-1f4c-42bc-8dac-9556d59f6045",
   "metadata": {
    "execution": {
     "iopub.execute_input": "2023-04-14T00:55:21.825251Z",
     "iopub.status.busy": "2023-04-14T00:55:21.824409Z",
     "iopub.status.idle": "2023-04-14T00:55:21.860018Z",
     "shell.execute_reply": "2023-04-14T00:55:21.859066Z",
     "shell.execute_reply.started": "2023-04-14T00:55:21.825173Z"
    },
    "tags": []
   },
   "outputs": [
    {
     "data": {
      "text/plain": [
       "(array([[1.        , 0.24917114],\n",
       "        [0.24917114, 1.        ]]),\n",
       " array([[0.49114511, 0.11464137],\n",
       "        [0.11464137, 0.43100014]]))"
      ]
     },
     "execution_count": 27,
     "metadata": {},
     "output_type": "execute_result"
    }
   ],
   "source": [
    "correlation_matrix = np.corrcoef(demo.haplotypes.data @ effects.beta_unscaled_unstandardized_haploid, rowvar=-False)\n",
    "covariance_matrix = np.cov(demo.haplotypes.data @ effects.beta_unscaled_unstandardized_haploid, rowvar=-False)\n",
    "\n",
    "correlation_matrix, covariance_matrix\n"
   ]
  },
  {
   "cell_type": "markdown",
   "id": "07a83f45-4e73-4774-9b5c-044f254ce6e8",
   "metadata": {},
   "source": [
    "We then pass the `AdditiveEffects` object to the `AdditiveGeneticComponent` constructor to generate the corresponding archetecture component:"
   ]
  },
  {
   "cell_type": "code",
   "execution_count": 28,
   "id": "94e7b832-d16b-4589-9f4c-412ad77ca51c",
   "metadata": {
    "execution": {
     "iopub.execute_input": "2023-04-14T00:55:22.189562Z",
     "iopub.status.busy": "2023-04-14T00:55:22.188767Z",
     "iopub.status.idle": "2023-04-14T00:55:22.208860Z",
     "shell.execute_reply": "2023-04-14T00:55:22.207835Z",
     "shell.execute_reply.started": "2023-04-14T00:55:22.189487Z"
    },
    "tags": []
   },
   "outputs": [
    {
     "data": {
      "text/plain": [
       "<class 'xftsim.arch.AdditiveGeneticComponent'>\n",
       "\n",
       "## INPUTS:\n",
       " - haplotypes: True\n",
       " - phenotype components:\n",
       "<Empty ComponentIndex>\n",
       "\n",
       "## OUTPUTS:\n",
       " - phenotype components:\n",
       "<ComponentIndex>\n",
       "  1 component of 2 phenotypes spanning 1 generation\n",
       "                               phenotype_name   component_name  \\\n",
       "component                                                        \n",
       "height.additiveGenetic.proband         height  additiveGenetic   \n",
       "BMD.additiveGenetic.proband               BMD  additiveGenetic   \n",
       "\n",
       "                                vorigin_relative  \n",
       "component                                         \n",
       "height.additiveGenetic.proband                -1  \n",
       "BMD.additiveGenetic.proband                   -1  "
      ]
     },
     "execution_count": 28,
     "metadata": {},
     "output_type": "execute_result"
    }
   ],
   "source": [
    "xft.arch.AdditiveGeneticComponent(effects)"
   ]
  },
  {
   "cell_type": "markdown",
   "id": "e754afe2-88ec-46da-ad02-81e8bb7f0d98",
   "metadata": {
    "execution": {
     "iopub.execute_input": "2023-04-14T00:16:37.553149Z",
     "iopub.status.busy": "2023-04-14T00:16:37.552277Z",
     "iopub.status.idle": "2023-04-14T00:16:37.566709Z",
     "shell.execute_reply": "2023-04-14T00:16:37.564442Z",
     "shell.execute_reply.started": "2023-04-14T00:16:37.553068Z"
    },
    "tags": []
   },
   "source": [
    "## Noise components\n",
    "\n",
    "Noise components are likely the simplest archetectural component to specify. For iid Gaussian noise, we only need to provide variances (or standard deviations if preferred) and the names of the corresponding phenotypes to the `AdditiveNoiseComponent` constructor. Here we construct independent noise components for height and BMD with variances 0.5 and 0.6, respectively:"
   ]
  },
  {
   "cell_type": "code",
   "execution_count": 29,
   "id": "638e0a3d-d271-41bc-8547-70f755751113",
   "metadata": {
    "execution": {
     "iopub.execute_input": "2023-04-14T00:55:22.578687Z",
     "iopub.status.busy": "2023-04-14T00:55:22.577873Z",
     "iopub.status.idle": "2023-04-14T00:55:22.603521Z",
     "shell.execute_reply": "2023-04-14T00:55:22.602345Z",
     "shell.execute_reply.started": "2023-04-14T00:55:22.578609Z"
    },
    "tags": []
   },
   "outputs": [
    {
     "data": {
      "text/plain": [
       "<class 'xftsim.arch.AdditiveNoiseComponent'>\n",
       "\n",
       "## INPUTS:\n",
       " - haplotypes: False\n",
       " - phenotype components:\n",
       "<Empty ComponentIndex>\n",
       "\n",
       "## OUTPUTS:\n",
       " - phenotype components:\n",
       "<ComponentIndex>\n",
       "  1 component of 2 phenotypes spanning 1 generation\n",
       "                             phenotype_name component_name  vorigin_relative\n",
       "component                                                                   \n",
       "height.additiveNoise.proband         height  additiveNoise                -1\n",
       "BMD.additiveNoise.proband               BMD  additiveNoise                -1"
      ]
     },
     "execution_count": 29,
     "metadata": {},
     "output_type": "execute_result"
    }
   ],
   "source": [
    "inoise = xft.arch.AdditiveNoiseComponent(variances=[.5,.6], phenotype_name=['height', 'BMD'])\n",
    "inoise"
   ]
  },
  {
   "cell_type": "markdown",
   "id": "a38d42d5-c0de-48e3-b749-6b86b0a886d1",
   "metadata": {
    "execution": {
     "iopub.execute_input": "2023-04-14T00:47:08.246394Z",
     "iopub.status.busy": "2023-04-14T00:47:08.245554Z",
     "iopub.status.idle": "2023-04-14T00:47:08.265921Z",
     "shell.execute_reply": "2023-04-14T00:47:08.265192Z",
     "shell.execute_reply.started": "2023-04-14T00:47:08.246350Z"
    },
    "tags": []
   },
   "source": [
    "If we want (possibly correlated) multivariate normal noise components, we can use `CorrelatedNoiseComponent` instead. Here we set the correlation between the noise components for height and BMD to 0.3:"
   ]
  },
  {
   "cell_type": "code",
   "execution_count": 30,
   "id": "4f1e1f3a-8342-4bb6-98e4-74988839808d",
   "metadata": {
    "execution": {
     "iopub.execute_input": "2023-04-14T00:55:23.347124Z",
     "iopub.status.busy": "2023-04-14T00:55:23.346019Z",
     "iopub.status.idle": "2023-04-14T00:55:23.373269Z",
     "shell.execute_reply": "2023-04-14T00:55:23.372150Z",
     "shell.execute_reply.started": "2023-04-14T00:55:23.347028Z"
    },
    "tags": []
   },
   "outputs": [
    {
     "data": {
      "text/plain": [
       "<class 'xftsim.arch.CorrelatedNoiseComponent'>\n",
       "\n",
       "## INPUTS:\n",
       " - haplotypes: False\n",
       " - phenotype components:\n",
       "<Empty ComponentIndex>\n",
       "\n",
       "## OUTPUTS:\n",
       " - phenotype components:\n",
       "<ComponentIndex>\n",
       "  1 component of 2 phenotypes spanning 1 generation\n",
       "                               phenotype_name   component_name  \\\n",
       "component                                                        \n",
       "height.correlatedNoise.proband         height  correlatedNoise   \n",
       "BMD.correlatedNoise.proband               BMD  correlatedNoise   \n",
       "\n",
       "                                vorigin_relative  \n",
       "component                                         \n",
       "height.correlatedNoise.proband                -1  \n",
       "BMD.correlatedNoise.proband                   -1  "
      ]
     },
     "execution_count": 30,
     "metadata": {},
     "output_type": "execute_result"
    }
   ],
   "source": [
    "vcov = np.array([[.5, .3*np.sqrt(.5*.6)],\n",
    "                 [.3*np.sqrt(.5*.6), .6]])\n",
    "\n",
    "cnoise = xft.arch.CorrelatedNoiseComponent(vcov=vcov, phenotype_name=['height', 'BMD'])\n",
    "cnoise"
   ]
  },
  {
   "cell_type": "code",
   "execution_count": 31,
   "id": "2e32e08a-7a31-4630-a43a-f4488f145f9d",
   "metadata": {
    "execution": {
     "iopub.execute_input": "2023-04-14T00:55:23.671262Z",
     "iopub.status.busy": "2023-04-14T00:55:23.670455Z",
     "iopub.status.idle": "2023-04-14T00:55:23.686841Z",
     "shell.execute_reply": "2023-04-14T00:55:23.685439Z",
     "shell.execute_reply.started": "2023-04-14T00:55:23.671185Z"
    },
    "tags": []
   },
   "outputs": [],
   "source": []
  },
  {
   "cell_type": "code",
   "execution_count": 34,
   "id": "16943f8a-7808-438a-9621-097119451ffb",
   "metadata": {
    "execution": {
     "iopub.execute_input": "2023-04-14T00:55:50.460585Z",
     "iopub.status.busy": "2023-04-14T00:55:50.460177Z",
     "iopub.status.idle": "2023-04-14T00:55:50.473015Z",
     "shell.execute_reply": "2023-04-14T00:55:50.472082Z",
     "shell.execute_reply.started": "2023-04-14T00:55:50.460551Z"
    },
    "tags": []
   },
   "outputs": [
    {
     "data": {
      "text/plain": [
       "<Empty ComponentIndex>"
      ]
     },
     "execution_count": 34,
     "metadata": {},
     "output_type": "execute_result"
    }
   ],
   "source": []
  },
  {
   "cell_type": "markdown",
   "id": "b62d820e-af9e-443b-912b-acdb35ce0fc2",
   "metadata": {},
   "source": [
    "## Vertical transmission\n",
    "\n",
    "## Causal dependencies \n",
    "\n",
    "## Transformations\n",
    "\n"
   ]
  }
 ],
 "metadata": {
  "kernelspec": {
   "display_name": "Python 3 (ipykernel)",
   "language": "python",
   "name": "python3"
  },
  "language_info": {
   "codemirror_mode": {
    "name": "ipython",
    "version": 3
   },
   "file_extension": ".py",
   "mimetype": "text/x-python",
   "name": "python",
   "nbconvert_exporter": "python",
   "pygments_lexer": "ipython3",
   "version": "3.9.15"
  }
 },
 "nbformat": 4,
 "nbformat_minor": 5
}
