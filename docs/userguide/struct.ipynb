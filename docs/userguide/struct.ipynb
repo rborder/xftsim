{
 "cells": [
  {
   "cell_type": "markdown",
   "id": "a795b57d-dae0-481b-b6c7-c481d02bfe28",
   "metadata": {
    "execution": {
     "iopub.execute_input": "2023-04-07T23:28:52.438086Z",
     "iopub.status.busy": "2023-04-07T23:28:52.437271Z",
     "iopub.status.idle": "2023-04-07T23:28:52.445151Z",
     "shell.execute_reply": "2023-04-07T23:28:52.444372Z",
     "shell.execute_reply.started": "2023-04-07T23:28:52.438011Z"
    },
    "tags": []
   },
   "source": [
    "# Data structures\n"
   ]
  },
  {
   "cell_type": "code",
   "execution_count": 1,
   "id": "400e1641-7129-4c1a-88a4-3b600ce813a0",
   "metadata": {
    "execution": {
     "iopub.execute_input": "2023-04-08T00:09:40.782868Z",
     "iopub.status.busy": "2023-04-08T00:09:40.782512Z",
     "iopub.status.idle": "2023-04-08T00:09:43.678689Z",
     "shell.execute_reply": "2023-04-08T00:09:43.678151Z",
     "shell.execute_reply.started": "2023-04-08T00:09:40.782832Z"
    },
    "tags": []
   },
   "outputs": [],
   "source": [
    "import numpy as np\n",
    "import xftsim as xft\n",
    "from xftsim import index, struct\n",
    "\n",
    "xft.config.print_durations_threshold=10. ## reduce verbosity\n",
    "np.random.seed(123) ## set random seed for reproducibility"
   ]
  },
  {
   "cell_type": "markdown",
   "id": "dc4a4fe1-210f-4e05-9990-bc304b10e25f",
   "metadata": {},
   "source": [
    "Here we introduce `HaplotypeArray` and `PhenotypeArray` objects, the two primary data objects `xftsim` operates on. These objects are indexed as follows:\n",
    "\n",
    "| Object | Row Index | Column Index |\n",
    "| --- | --- | --- |\n",
    "|`struct.HaplotypeArray`|`index.SampleIndex`|`index.HaploidVariantIndex`|\n",
    "|`struct.PhenotypeArray`|`index.SampleIndex`|`index.ComponentIndex`|\n",
    "\n",
    "\n",
    ":::{warning}\n",
    "\n",
    "It will be challenging to to understand this information if you haven't read [the tutorial on indexing](./indexing.ipynb)!\n",
    "\n",
    ":::\n",
    "\n",
    "Counterintuively, Neither `HaplotypeArray` are `PhenotypeArray` actual classes. Rather, both construct instances of `xarray.DataArray` with an extended API available through the `xft` accessor. If you're confused, don't worry--we'll go through all of this step by step.\n",
    "\n",
    ":::{tip}\n",
    "\n",
    "The [xarray documentation](https://docs.xarray.dev/en/stable/generated/xarray.DataArray.html) can be very helpful if you haven't used `xarray` before!\n",
    "\n",
    ":::\n",
    "\n",
    "First, we'll run a small simulation (the details of which aren't important for now) so that we have some arrays to work with:\n"
   ]
  },
  {
   "cell_type": "code",
   "execution_count": null,
   "id": "5598f21a-965c-4467-be9f-998b80edbf43",
   "metadata": {
    "execution": {
     "iopub.execute_input": "2023-04-08T00:10:06.627439Z",
     "iopub.status.busy": "2023-04-08T00:10:06.627138Z",
     "iopub.status.idle": "2023-04-08T00:10:06.889403Z",
     "shell.execute_reply": "2023-04-08T00:10:06.886745Z",
     "shell.execute_reply.started": "2023-04-08T00:10:06.627416Z"
    },
    "tags": []
   },
   "outputs": [],
   "source": [
    "founder_haplotypes = xft.founders.founder_haplotypes_uniform_AFs(n=800, m=100)\n",
    "architecture = xft.arch.GCTA_Architecture(h2=[.5,.5], phenotype_name=['height', 'BMD'], haplotypes=founder_haplotypes)\n",
    "recombination_map = xft.reproduce.RecombinationMap.constant_map_from_haplotypes(founder_haplotypes, p =.1)\n",
    "mating_regime = xft.mate.LinearAssortativeMatingRegime(r = .5, offspring_per_pair=2,\n",
    "                                                       component_index = xft.index.ComponentIndex.from_product(['height', 'BMD'], ['phenotype']))\n",
    "sim = xft.sim.Simulation(founder_haplotypes=founder_haplotypes,\n",
    "                         mating_regime=mating_regime,\n",
    "                         recombination_map=recombination_map,\n",
    "                         architecture=architecture)\n",
    "sim.run(2)\n",
    "\n",
    "haplo = sim.haplotypes\n",
    "pheno = sim.phenotypes"
   ]
  },
  {
   "cell_type": "markdown",
   "id": "800dcdd5-8b55-4771-be76-d309ca6bc51c",
   "metadata": {
    "execution": {
     "iopub.execute_input": "2023-04-07T23:56:09.690965Z",
     "iopub.status.busy": "2023-04-07T23:56:09.690503Z",
     "iopub.status.idle": "2023-04-07T23:56:09.693324Z",
     "shell.execute_reply": "2023-04-07T23:56:09.692676Z",
     "shell.execute_reply.started": "2023-04-07T23:56:09.690945Z"
    },
    "tags": []
   },
   "source": [
    "## Haplotype arrays\n",
    "\n",
    "For $n$ individuals and $m$ diploid loci, a haplotype array is an $n\\times 2m$ `xr.DataArray` of 8-bit integers"
   ]
  },
  {
   "cell_type": "code",
   "execution_count": null,
   "id": "24691dbd-7fad-49f3-b369-8fd021abbcf9",
   "metadata": {
    "execution": {
     "iopub.status.busy": "2023-04-08T00:09:44.205613Z",
     "iopub.status.idle": "2023-04-08T00:09:44.205844Z",
     "shell.execute_reply": "2023-04-08T00:09:44.205727Z",
     "shell.execute_reply.started": "2023-04-08T00:09:44.205716Z"
    },
    "tags": []
   },
   "outputs": [],
   "source": [
    "haplo"
   ]
  },
  {
   "cell_type": "code",
   "execution_count": null,
   "id": "8c15372a-c4a6-44ac-936a-1210d19fe5d3",
   "metadata": {},
   "outputs": [],
   "source": []
  },
  {
   "cell_type": "code",
   "execution_count": null,
   "id": "e61bbcb4-8c31-4d78-a38c-87e43dc33575",
   "metadata": {},
   "outputs": [],
   "source": []
  },
  {
   "cell_type": "code",
   "execution_count": null,
   "id": "51a7b483-a1cb-400b-9fb2-43852fb142c0",
   "metadata": {},
   "outputs": [],
   "source": []
  }
 ],
 "metadata": {
  "kernelspec": {
   "display_name": "Python 3 (ipykernel)",
   "language": "python",
   "name": "python3"
  },
  "language_info": {
   "codemirror_mode": {
    "name": "ipython",
    "version": 3
   },
   "file_extension": ".py",
   "mimetype": "text/x-python",
   "name": "python",
   "nbconvert_exporter": "python",
   "pygments_lexer": "ipython3",
   "version": "3.9.15"
  }
 },
 "nbformat": 4,
 "nbformat_minor": 5
}
